{
  "nbformat": 4,
  "nbformat_minor": 0,
  "metadata": {
    "colab": {
      "provenance": []
    },
    "kernelspec": {
      "name": "python3",
      "display_name": "Python 3"
    },
    "language_info": {
      "name": "python"
    }
  },
  "cells": [
    {
      "cell_type": "markdown",
      "source": [
        "# Task2 : Math"
      ],
      "metadata": {
        "id": "B8PYn8mfdNql"
      }
    },
    {
      "cell_type": "markdown",
      "source": [
        "Q1) https://www.hackerrank.com/challenges/polar-coordinates?isFullScreen=true"
      ],
      "metadata": {
        "id": "_sHURd4RdP3L"
      }
    },
    {
      "cell_type": "code",
      "source": [
        "import cmath\n",
        "inp = complex( input(\"Enter a complex num: \") )\n",
        "print( abs(inp) )\n",
        "print( cmath.phase(inp) )"
      ],
      "metadata": {
        "colab": {
          "base_uri": "https://localhost:8080/",
          "height": 0
        },
        "id": "0WbsGQ6fdPAd",
        "outputId": "83558671-fc45-450b-f2ed-5edbedc5510a"
      },
      "execution_count": 2,
      "outputs": [
        {
          "output_type": "stream",
          "name": "stdout",
          "text": [
            "Enter a complex num: 1+29j\n",
            "29.017236257093817\n",
            "1.5363272257953886\n"
          ]
        }
      ]
    },
    {
      "cell_type": "markdown",
      "source": [
        "Q2) https://www.hackerrank.com/challenges/triangle-quest-2?isFullScreen=true"
      ],
      "metadata": {
        "id": "xYGRwH6Jd_L-"
      }
    },
    {
      "cell_type": "code",
      "source": [
        "for i in range(1,int(input(\"N: \"))+1): \n",
        "    print(pow(((pow(10,i)-1)//9), 2))"
      ],
      "metadata": {
        "colab": {
          "base_uri": "https://localhost:8080/",
          "height": 0
        },
        "id": "sWMe544ieHkf",
        "outputId": "7671dc56-f57d-4aaf-8cd6-ef836f57ffde"
      },
      "execution_count": 5,
      "outputs": [
        {
          "output_type": "stream",
          "name": "stdout",
          "text": [
            "N: 7\n",
            "1\n",
            "121\n",
            "12321\n",
            "1234321\n",
            "123454321\n",
            "12345654321\n",
            "1234567654321\n"
          ]
        }
      ]
    },
    {
      "cell_type": "markdown",
      "source": [
        "Q3) https://www.hackerrank.com/challenges/find-angle?isFullScreen=true"
      ],
      "metadata": {
        "id": "CbLeqEZeemuo"
      }
    },
    {
      "cell_type": "code",
      "source": [
        "import math\n",
        "AB,BC=int(input(\"A: \")),int(input(\"B: \"))\n",
        "hyp=math.hypot(AB,BC)\n",
        "res=round(math.degrees(math.acos(BC/hyp))) \n",
        "degree=chr(176)                          \n",
        "print(res,degree, sep='')"
      ],
      "metadata": {
        "colab": {
          "base_uri": "https://localhost:8080/",
          "height": 0
        },
        "id": "fGS5Z2rke2oY",
        "outputId": "12318aea-48d3-4690-e4d3-5796f0a6c974"
      },
      "execution_count": 7,
      "outputs": [
        {
          "output_type": "stream",
          "name": "stdout",
          "text": [
            "A: 5\n",
            "B: 6\n",
            "40°\n"
          ]
        }
      ]
    },
    {
      "cell_type": "markdown",
      "source": [
        "Q4) https://www.hackerrank.com/challenges/python-power-mod-power?isFullScreen=true"
      ],
      "metadata": {
        "id": "Je60LaT9e3ck"
      }
    },
    {
      "cell_type": "code",
      "source": [
        "a = int( input() )\n",
        "b = int( input() )\n",
        "m = int( input() )\n",
        "\n",
        "print( pow(a, b) )\n",
        "print( pow(a, b, m) )"
      ],
      "metadata": {
        "id": "AX2vdBuye2q8"
      },
      "execution_count": null,
      "outputs": []
    },
    {
      "cell_type": "markdown",
      "source": [
        "Q5) https://www.hackerrank.com/challenges/python-integers-come-in-all-sizes?isFullScreen=true"
      ],
      "metadata": {
        "id": "VtwrMz-6gdme"
      }
    },
    {
      "cell_type": "code",
      "source": [
        "a = int( input(\"a:\") )\n",
        "b = int( input(\"b:\") )\n",
        "c = int( input(\"c:\") )\n",
        "d = int( input(\"d:\") )\n",
        "\n",
        "print( pow(a, b) + pow(c, d) ) "
      ],
      "metadata": {
        "colab": {
          "base_uri": "https://localhost:8080/",
          "height": 0
        },
        "id": "omd2Gl7fgj7o",
        "outputId": "551abd03-20c4-4d20-fff8-8d38079a2c94"
      },
      "execution_count": 9,
      "outputs": [
        {
          "output_type": "stream",
          "name": "stdout",
          "text": [
            "a:2\n",
            "b:4\n",
            "c:3\n",
            "d:2\n",
            "25\n"
          ]
        }
      ]
    },
    {
      "cell_type": "markdown",
      "source": [
        "Q6) https://www.hackerrank.com/challenges/python-mod-divmod?isFullScreen=true"
      ],
      "metadata": {
        "id": "rD4pSDVSg6G7"
      }
    },
    {
      "cell_type": "code",
      "source": [
        "a = int( input(\"a: \") )\n",
        "b = int( input(\"b: \") )\n",
        "\n",
        "print(a//b)\n",
        "print(a%b)\n",
        "print( divmod(a, b) )"
      ],
      "metadata": {
        "colab": {
          "base_uri": "https://localhost:8080/",
          "height": 0
        },
        "id": "2xipne3Pg_bO",
        "outputId": "ea2caeed-3553-4e73-cfcc-b2d6360a9b9b"
      },
      "execution_count": 11,
      "outputs": [
        {
          "output_type": "stream",
          "name": "stdout",
          "text": [
            "a: 3\n",
            "b: 5\n",
            "0\n",
            "3\n",
            "(0, 3)\n"
          ]
        }
      ]
    },
    {
      "cell_type": "markdown",
      "source": [
        "Q7) https://www.hackerrank.com/challenges/python-quest-1?isFullScreen=true"
      ],
      "metadata": {
        "id": "uAhy8g9ohPwm"
      }
    },
    {
      "cell_type": "code",
      "source": [
        "for i in range(1,int(input(\"n: \"))):\n",
        "    print( ((pow(10, i)-1)//9) * i )"
      ],
      "metadata": {
        "colab": {
          "base_uri": "https://localhost:8080/",
          "height": 0
        },
        "id": "4EqiIjr6hWHy",
        "outputId": "8c78ce8e-58a9-461c-c4e1-a85eb990371a"
      },
      "execution_count": 12,
      "outputs": [
        {
          "output_type": "stream",
          "name": "stdout",
          "text": [
            "n: 4\n",
            "1\n",
            "22\n",
            "333\n"
          ]
        }
      ]
    }
  ]
}