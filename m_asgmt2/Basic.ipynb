{
  "nbformat": 4,
  "nbformat_minor": 0,
  "metadata": {
    "colab": {
      "provenance": []
    },
    "kernelspec": {
      "name": "python3",
      "display_name": "Python 3"
    },
    "language_info": {
      "name": "python"
    }
  },
  "cells": [
    {
      "cell_type": "markdown",
      "source": [
        "# Basic Python Programming"
      ],
      "metadata": {
        "id": "OVNaCe8MI1fA"
      }
    },
    {
      "cell_type": "markdown",
      "source": [
        "Q1) https://www.hackerrank.com/challenges/py-hello-world?isFullScreen=true"
      ],
      "metadata": {
        "id": "GyYlIgSdI7rI"
      }
    },
    {
      "cell_type": "code",
      "source": [
        "print(\"Hello, World!\")"
      ],
      "metadata": {
        "colab": {
          "base_uri": "https://localhost:8080/",
          "height": 0
        },
        "id": "m_lu-jTCI8EJ",
        "outputId": "8adb1f4d-1287-4255-bbaf-102cdc102db8"
      },
      "execution_count": 1,
      "outputs": [
        {
          "output_type": "stream",
          "name": "stdout",
          "text": [
            "Hello, World!\n"
          ]
        }
      ]
    },
    {
      "cell_type": "markdown",
      "source": [
        "Q2) https://www.hackerrank.com/challenges/py-if-else?isFullScreen=true"
      ],
      "metadata": {
        "id": "gv2DYE3lI8c2"
      }
    },
    {
      "cell_type": "code",
      "source": [
        "\n",
        "\n",
        "import math\n",
        "import os\n",
        "import random\n",
        "import re\n",
        "import sys\n",
        "\n",
        "\n",
        "\n",
        "if __name__ == '__main__':\n",
        "    n = int(input(\"Enter a number: \").strip())\n",
        "    if n%2 == 1:\n",
        "        print(\"Weird\")\n",
        "    else:\n",
        "        if n>=2 and n<= 5:\n",
        "            print(\"Not Weird\")\n",
        "        elif n>=6 and n<=20:\n",
        "            print(\"Weird\")\n",
        "        elif n>20:\n",
        "            print(\"Not Weird\") \n"
      ],
      "metadata": {
        "colab": {
          "base_uri": "https://localhost:8080/",
          "height": 0
        },
        "id": "kS3CTIpXJhkQ",
        "outputId": "57b260b1-8fca-41d0-f54b-ad42d0f9c262"
      },
      "execution_count": 3,
      "outputs": [
        {
          "output_type": "stream",
          "name": "stdout",
          "text": [
            "Enter a number: 14\n",
            "Weird\n"
          ]
        }
      ]
    },
    {
      "cell_type": "markdown",
      "source": [
        "Q3) https://www.hackerrank.com/challenges/python-arithmetic-operators?isFullScreen=true"
      ],
      "metadata": {
        "id": "lz7SFLW7JsC4"
      }
    },
    {
      "cell_type": "code",
      "source": [
        "if __name__ == '__main__':\n",
        "    a = int(input(\"a :\"))\n",
        "    b = int(input(\"b :\"))\n",
        "    print(a+b)\n",
        "    print(a-b)\n",
        "    print(a*b)\n"
      ],
      "metadata": {
        "colab": {
          "base_uri": "https://localhost:8080/",
          "height": 0
        },
        "id": "YdeUcX7iJxxR",
        "outputId": "69982e56-4bef-4d41-cc4a-a81774d736ac"
      },
      "execution_count": 4,
      "outputs": [
        {
          "output_type": "stream",
          "name": "stdout",
          "text": [
            "a :5\n",
            "b :6\n",
            "11\n",
            "-1\n",
            "30\n"
          ]
        }
      ]
    },
    {
      "cell_type": "markdown",
      "source": [
        "Q4) \n",
        "https://www.hackerrank.com/challenges/python-division?isFullScreen=true"
      ],
      "metadata": {
        "id": "GhXRckU0KTKy"
      }
    },
    {
      "cell_type": "code",
      "source": [
        "if __name__ == '__main__':\n",
        "    a = int(input(\"a :\"))\n",
        "    b = int(input(\"b :\"))\n",
        "    print(a//b)\n",
        "    print(a/b)"
      ],
      "metadata": {
        "colab": {
          "base_uri": "https://localhost:8080/",
          "height": 0
        },
        "id": "eRZzGB4XKYQw",
        "outputId": "7d592b75-2fb3-47f9-b142-9c1cde4adc80"
      },
      "execution_count": 5,
      "outputs": [
        {
          "output_type": "stream",
          "name": "stdout",
          "text": [
            "a :5\n",
            "b :8\n",
            "0\n",
            "0.625\n"
          ]
        }
      ]
    },
    {
      "cell_type": "markdown",
      "source": [
        "Q5) \n",
        "https://www.hackerrank.com/challenges/python-loops?isFullScreen=true"
      ],
      "metadata": {
        "id": "jZBOBGgpKmOK"
      }
    },
    {
      "cell_type": "code",
      "source": [
        "if __name__ == '__main__':\n",
        "    n = int(input(\"Enter a number: \"))\n",
        "    for i in range(n):\n",
        "        print(i**2)\n",
        "    print()"
      ],
      "metadata": {
        "colab": {
          "base_uri": "https://localhost:8080/",
          "height": 0
        },
        "id": "dXuTRbIuKmy3",
        "outputId": "18ccce78-406d-47d4-c865-a7fbddffd3df"
      },
      "execution_count": 6,
      "outputs": [
        {
          "output_type": "stream",
          "name": "stdout",
          "text": [
            "Enter a number: 5\n",
            "0\n",
            "1\n",
            "4\n",
            "9\n",
            "16\n",
            "\n"
          ]
        }
      ]
    },
    {
      "cell_type": "markdown",
      "source": [
        "Q6) https://www.hackerrank.com/challenges/write-a-function?isFullScreen=true"
      ],
      "metadata": {
        "id": "6JAostPnLOa0"
      }
    },
    {
      "cell_type": "code",
      "source": [
        "def is_leap(year):\n",
        "    leap = False\n",
        "    if ((year % 400 == 0) or ((year % 4 == 0) and (year% 100 !=0))):\n",
        "        return True\n",
        "    else:\n",
        "        return False  \n",
        "    \n",
        "    return leap\n",
        "year = int(input(\"Year :\"))\n",
        "print(is_leap(year))"
      ],
      "metadata": {
        "colab": {
          "base_uri": "https://localhost:8080/",
          "height": 0
        },
        "id": "MwfEQofMLP79",
        "outputId": "5bf527d0-c536-4204-9afa-0c4b4bc3e082"
      },
      "execution_count": 7,
      "outputs": [
        {
          "output_type": "stream",
          "name": "stdout",
          "text": [
            "Year :2023\n",
            "False\n"
          ]
        }
      ]
    },
    {
      "cell_type": "markdown",
      "source": [
        "Q7) https://www.hackerrank.com/challenges/python-print?isFullScreen=true"
      ],
      "metadata": {
        "id": "NCTwa5xxLmU1"
      }
    },
    {
      "cell_type": "code",
      "source": [
        "if __name__ == '__main__':\n",
        "    n = int(input(\"n :\"))\n",
        "    \n",
        "    print(*range(1,n+1),sep=\"\")\n",
        "\n"
      ],
      "metadata": {
        "colab": {
          "base_uri": "https://localhost:8080/",
          "height": 0
        },
        "id": "4QDe0pA9LrO2",
        "outputId": "1ae4b906-893a-455a-be30-ed663e127cc1"
      },
      "execution_count": 9,
      "outputs": [
        {
          "output_type": "stream",
          "name": "stdout",
          "text": [
            "n :6\n",
            "123456\n"
          ]
        }
      ]
    }
  ]
}