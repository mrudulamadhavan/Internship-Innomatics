{
  "nbformat": 4,
  "nbformat_minor": 0,
  "metadata": {
    "colab": {
      "provenance": []
    },
    "kernelspec": {
      "name": "python3",
      "display_name": "Python 3"
    },
    "language_info": {
      "name": "python"
    }
  },
  "cells": [
    {
      "cell_type": "markdown",
      "source": [
        "# Task2 : Datatypes & Sets"
      ],
      "metadata": {
        "id": "cQTLQSA3N1Pg"
      }
    },
    {
      "cell_type": "markdown",
      "source": [
        "Q1) https://www.hackerrank.com/challenges/list-comprehensions?isFullScreen=true"
      ],
      "metadata": {
        "id": "GL01_uo_N04j"
      }
    },
    {
      "cell_type": "code",
      "source": [
        "if __name__ == '__main__':\n",
        "    x = int(input())\n",
        "    y = int(input())\n",
        "    z = int(input())\n",
        "    n = int(input())\n",
        "\n",
        "    print([[i, j, k] for i in range(x + 1) for j in range(y + 1) for k in range(z + 1) if ((i + j + k) != n)])"
      ],
      "metadata": {
        "id": "xMB-2k67N3M-"
      },
      "execution_count": null,
      "outputs": []
    },
    {
      "cell_type": "markdown",
      "source": [
        "Q2) https://www.hackerrank.com/challenges/nested-list?isFullScreen=true"
      ],
      "metadata": {
        "id": "13xHLsWAOLYN"
      }
    },
    {
      "cell_type": "code",
      "source": [
        "if __name__ == '__main__':\n",
        "    score_list = {}\n",
        "    N = int(input(\"N :\"))\n",
        "    for _ in range(N):\n",
        "        name = input(\"Name :\")\n",
        "        score = float(input(\"Score : \"))\n",
        "        if score in score_list:\n",
        "            score_list[score].append(name)\n",
        "        else:\n",
        "            score_list[score] = [name]\n",
        "\n",
        "    new_list = []\n",
        "    for i in score_list:\n",
        "        new_list.append([i, score_list[i]])\n",
        "\n",
        "    new_list.sort()\n",
        "    result = new_list[1][1]\n",
        "    result.sort()\n",
        "    print(*result, sep=\"\\n\")"
      ],
      "metadata": {
        "colab": {
          "base_uri": "https://localhost:8080/"
        },
        "id": "JbserA1ZOMCL",
        "outputId": "7fd60303-80f4-42d1-aeed-3e5e9f47d39e"
      },
      "execution_count": null,
      "outputs": [
        {
          "output_type": "stream",
          "name": "stdout",
          "text": [
            "N :2\n",
            "Name :Ram\n",
            "Score : 65\n",
            "Name :Sita\n",
            "Score : 87\n",
            "Sita\n"
          ]
        }
      ]
    },
    {
      "cell_type": "markdown",
      "source": [
        "Q3) https://www.hackerrank.com/challenges/find-second-maximum-number-in-a-list?isFullScreen=true"
      ],
      "metadata": {
        "id": "WwQXkM1vPam3"
      }
    },
    {
      "cell_type": "code",
      "source": [
        "if __name__ == '__main__':\n",
        "    n = int(input(\"N :\"))\n",
        "    ar = set(map(int, input().split()))\n",
        "    ar = sorted(ar, key=int, reverse=True)\n",
        "    ar.pop(0)\n",
        "    print(ar.pop(0))"
      ],
      "metadata": {
        "colab": {
          "base_uri": "https://localhost:8080/"
        },
        "id": "UtUsle7TPh3l",
        "outputId": "d3eaedd3-d8fe-422d-a86a-bae8205ace4b"
      },
      "execution_count": null,
      "outputs": [
        {
          "output_type": "stream",
          "name": "stdout",
          "text": [
            "N :5\n",
            "2 3 4 5 6\n",
            "5\n"
          ]
        }
      ]
    },
    {
      "cell_type": "markdown",
      "source": [
        "Q4) https://www.hackerrank.com/challenges/python-lists?isFullScreen=true"
      ],
      "metadata": {
        "id": "sCoMdzw3QTUG"
      }
    },
    {
      "cell_type": "code",
      "source": [
        "if __name__ == '__main__':\n",
        "    N = int(input())\n",
        "    A = []\n",
        "    for i in range(0, N):\n",
        "        input_str = input()\n",
        "        l = input_str.split()\n",
        "        if l[0] == 'insert':\n",
        "            A.insert(int(l[1]), int(l[2]))\n",
        "        elif l[0] == 'print':\n",
        "            print(A)\n",
        "        elif l[0] == 'remove':\n",
        "            A.remove(int(l[1]))\n",
        "        elif l[0] == 'append':\n",
        "            A.append(int(l[1]))\n",
        "        elif l[0] == 'sort':\n",
        "            A.sort()\n",
        "        elif l[0] == 'pop':\n",
        "            A.pop()\n",
        "        elif l[0] == 'reverse':\n",
        "            A.reverse()"
      ],
      "metadata": {
        "id": "gSBz0BFDQioU"
      },
      "execution_count": null,
      "outputs": []
    },
    {
      "cell_type": "markdown",
      "source": [
        "Q5) https://www.hackerrank.com/challenges/python-tuples?isFullScreen=true"
      ],
      "metadata": {
        "id": "SqczqM9sREh-"
      }
    },
    {
      "cell_type": "code",
      "source": [
        "if __name__ == '__main__':\n",
        "    n = int(input())    \n",
        "    integer_list = tuple(map(int, input().split()))\n",
        "    print(hash(integer_list))"
      ],
      "metadata": {
        "id": "Wc87z0w_RXBt"
      },
      "execution_count": null,
      "outputs": []
    },
    {
      "cell_type": "markdown",
      "source": [
        "Q6) https://www.hackerrank.com/challenges/finding-the-percentage?isFullScreen=true"
      ],
      "metadata": {
        "id": "vNylf_6mRwY9"
      }
    },
    {
      "cell_type": "code",
      "source": [
        "if __name__ == '__main__':\n",
        "    n = int(input())\n",
        "    student_marks = {}\n",
        "\n",
        "    for _ in range(n):\n",
        "        name, *line = input().split()\n",
        "        scores = list(map(float, line))\n",
        "        student_marks[name] = scores\n",
        "\n",
        "    query_name = input()\n",
        "    avg = sum(student_marks[query_name]) / 3\n",
        "    print(\"{:.2f}\".format(avg))"
      ],
      "metadata": {
        "id": "XW55fy5JRzJO"
      },
      "execution_count": null,
      "outputs": []
    },
    {
      "cell_type": "markdown",
      "source": [
        "Q7) https://www.hackerrank.com/challenges/py-introduction-to-sets?isFullScreen=true"
      ],
      "metadata": {
        "id": "Y0K-ZvofRhHk"
      }
    },
    {
      "cell_type": "code",
      "source": [
        "def average(array):\n",
        "    # your code goes here\n",
        "    arr_set = set(arr)\n",
        "    return sum(arr_set)/len(arr_set)\n",
        "\n",
        "if __name__ == '__main__':\n",
        "    n = int(input())\n",
        "    arr = list(map(int, input().split()))\n",
        "    result = average(arr)\n",
        "    print(result)"
      ],
      "metadata": {
        "id": "hv0inYEdRhcC"
      },
      "execution_count": null,
      "outputs": []
    },
    {
      "cell_type": "markdown",
      "source": [
        "Q8) https://www.hackerrank.com/challenges/symmetric-difference?isFullScreen=true"
      ],
      "metadata": {
        "id": "BdJHAFTpRhwe"
      }
    },
    {
      "cell_type": "code",
      "source": [
        "\n",
        "M = int( input() )\n",
        "m_set = set( input().split() )\n",
        "N = int( input() )\n",
        "n_set = set( input().split() )\n",
        "\n",
        "data_list = list(m_set.difference(n_set)) + list(n_set.difference(m_set));\n",
        "data_list = list( map(int, data_list) )\n",
        "data_list.sort(reverse=False)\n",
        "\n",
        "for item in range(0, len(data_list)):\n",
        "    print( data_list[item] )"
      ],
      "metadata": {
        "id": "nlE10JTTRiF2"
      },
      "execution_count": null,
      "outputs": []
    },
    {
      "cell_type": "markdown",
      "source": [
        "Q9) https://www.hackerrank.com/challenges/py-set-add?isFullScreen=true"
      ],
      "metadata": {
        "id": "GSXgDm9kRidJ"
      }
    },
    {
      "cell_type": "code",
      "source": [
        "def distinctstamps(N):\n",
        "    stamp = set()\n",
        "    while N > 0:\n",
        "        stamp.add( input() )\n",
        "        N -= 1\n",
        "    return stamp\n",
        "\n",
        "\n",
        "if __name__ == '__main__':\n",
        "    N = int( input() )\n",
        "    print( len(distinctstamps(N)) )"
      ],
      "metadata": {
        "id": "I0sQRg1XRi0w"
      },
      "execution_count": null,
      "outputs": []
    },
    {
      "cell_type": "markdown",
      "source": [
        "Q10) https://www.hackerrank.com/challenges/py-set-discard-remove-pop?isFullScreen=true"
      ],
      "metadata": {
        "id": "v7IkRDDLTqz8"
      }
    },
    {
      "cell_type": "code",
      "source": [
        "n = int(input())\n",
        "s = set( map(int, input().split()) )\n",
        "N = int( input() )\n",
        "\n",
        "for i in range(0,N):\n",
        "    inp_data = input().split()\n",
        "    if inp_data[0] == 'pop':\n",
        "        s.pop()\n",
        "    if inp_data[0] == 'remove':\n",
        "        s.remove( int(inp_data[1]) )\n",
        "    if inp_data[0] == 'discard':\n",
        "        s.discard( int(inp_data[1]) )\n",
        "\n",
        "print(sum(s))"
      ],
      "metadata": {
        "id": "cJxTVywBTrPO"
      },
      "execution_count": null,
      "outputs": []
    },
    {
      "cell_type": "markdown",
      "source": [
        "Q11) https://www.hackerrank.com/challenges/py-set-union?isFullScreen=true"
      ],
      "metadata": {
        "id": "xz7UY0IoTrru"
      }
    },
    {
      "cell_type": "code",
      "source": [
        "n = int(input())\n",
        "english = set( map( int, input().split() ) )\n",
        "\n",
        "p = int(input())\n",
        "french = set( map( int, input().split() ) )\n",
        "new_set = english.union(french)\n",
        "print( len(new_set) )"
      ],
      "metadata": {
        "id": "ksvRG8qXTsJP"
      },
      "execution_count": null,
      "outputs": []
    },
    {
      "cell_type": "markdown",
      "source": [
        "Q12) https://www.hackerrank.com/challenges/py-set-intersection-operation?isFullScreen=true"
      ],
      "metadata": {
        "id": "nErHUAloWGrE"
      }
    },
    {
      "cell_type": "code",
      "source": [
        "n = int(input())\n",
        "english = set( map( int, input().split() ) )\n",
        "\n",
        "p = int(input())\n",
        "french = set( map( int, input().split() ) )\n",
        "new_set = english.intersection(french)\n",
        "print( len(new_set) )"
      ],
      "metadata": {
        "id": "lql5z6SwWN0-"
      },
      "execution_count": null,
      "outputs": []
    },
    {
      "cell_type": "markdown",
      "source": [
        "Q13) https://www.hackerrank.com/challenges/py-set-difference-operation?isFullScreen=true"
      ],
      "metadata": {
        "id": "GXhus6UtWbcI"
      }
    },
    {
      "cell_type": "code",
      "source": [
        "n = int(input())\n",
        "english = set( map( int, input().split() ) )\n",
        "\n",
        "p = int(input())\n",
        "french = set( map( int, input().split() ) )\n",
        "new_set = english.difference(french)\n",
        "print( len(new_set) )"
      ],
      "metadata": {
        "id": "vIZL5HxhWb6d"
      },
      "execution_count": null,
      "outputs": []
    },
    {
      "cell_type": "markdown",
      "source": [
        "Q14) https://www.hackerrank.com/challenges/py-set-symmetric-difference-operation?isFullScreen=true"
      ],
      "metadata": {
        "id": "hNaTfSgfWu4A"
      }
    },
    {
      "cell_type": "code",
      "source": [
        "n = int(input())\n",
        "english = set( map( int, input().split() ) )\n",
        "\n",
        "p = int(input())\n",
        "french = set( map( int, input().split() ) )\n",
        "new_set = english.symmetric_difference(franch)\n",
        "print( len(new_set) )"
      ],
      "metadata": {
        "id": "5ucEbII2W1is"
      },
      "execution_count": null,
      "outputs": []
    },
    {
      "cell_type": "markdown",
      "source": [
        "Q15) https://www.hackerrank.com/challenges/py-set-mutations?isFullScreen=true"
      ],
      "metadata": {
        "id": "qnBeo0U6YtDd"
      }
    },
    {
      "cell_type": "code",
      "source": [
        "a = int(input())\n",
        "A = set( map( int, input().split() ) )\n",
        "N = int(input())\n",
        "for i in range(0, N):\n",
        "    opns = input().split()\n",
        "    set2 = set( map( int, input().split() ) )\n",
        "    if opns[0] == 'intersection_update':\n",
        "        A.intersection_update(set2)\n",
        "    if opns[0] == 'update':\n",
        "        A.update(set2)\n",
        "    if opns[0] == 'symmetric_difference_update':\n",
        "        A.symmetric_difference_update(set2)\n",
        "    if opns[0] == 'difference_update':\n",
        "        A.difference_update(set2)\n",
        "\n",
        "print(sum(A))"
      ],
      "metadata": {
        "id": "fFUeETIJYtcL"
      },
      "execution_count": null,
      "outputs": []
    },
    {
      "cell_type": "markdown",
      "source": [
        "Q16) https://www.hackerrank.com/challenges/py-the-captains-room?isFullScreen=true"
      ],
      "metadata": {
        "id": "2EdDQv1IaIdZ"
      }
    },
    {
      "cell_type": "code",
      "source": [
        "def cap_room(rooms, k):\n",
        "    set1 = set(rooms)\n",
        "    ans = (sum(set1)*k) - sum(rooms)\n",
        "    return (ans // (k-1))\n",
        "\n",
        "\n",
        "if __name__ == '__main__':\n",
        "    k = int( input() )\n",
        "    rooms = list(map(int, input().split()))\n",
        "    print(cap_room(rooms, k))"
      ],
      "metadata": {
        "id": "J6PxFoSzaRWm"
      },
      "execution_count": null,
      "outputs": []
    },
    {
      "cell_type": "markdown",
      "source": [
        "Q17) https://www.hackerrank.com/challenges/py-check-subset?isFullScreen=true"
      ],
      "metadata": {
        "id": "VN-zxeM_anDM"
      }
    },
    {
      "cell_type": "code",
      "source": [
        "T = int( input() )\n",
        "for x in range(0,T):\n",
        "    a = int(input())\n",
        "    A = set(input().split())\n",
        "    b = int(input())\n",
        "    B = set(input().split())\n",
        "    \n",
        "    if len(A.difference(B)):\n",
        "        print('False')\n",
        "    else:\n",
        "        print('True')"
      ],
      "metadata": {
        "id": "eDiJkRn6atxI"
      },
      "execution_count": null,
      "outputs": []
    },
    {
      "cell_type": "markdown",
      "source": [
        "Q18) https://www.hackerrank.com/challenges/py-check-strict-superset?isFullScreen=true"
      ],
      "metadata": {
        "id": "qfYPtmLAa_jn"
      }
    },
    {
      "cell_type": "code",
      "source": [
        "def strictsuperset(A):\n",
        "    n = int( input() )\n",
        "    for x in range(0, n):\n",
        "        sub_set = set(input().split())\n",
        "        if len(sub_set.difference(A)):\n",
        "            return False\n",
        "\n",
        "    return True\n",
        "\n",
        "\n",
        "if __name__ == '__main__':\n",
        "    A = set(input().split())\n",
        "    if strictsuperset(A):\n",
        "        print('True')\n",
        "    else:\n",
        "        print('False')"
      ],
      "metadata": {
        "id": "75fb0ChFbFNJ"
      },
      "execution_count": null,
      "outputs": []
    },
    {
      "cell_type": "markdown",
      "source": [
        "Q19) https://www.hackerrank.com/challenges/no-idea?isFullScreen=true"
      ],
      "metadata": {
        "id": "voCM-VNIba3A"
      }
    },
    {
      "cell_type": "code",
      "source": [
        "def happ(arr, A, B):\n",
        "    happiness_score = 0\n",
        "    for i in arr:\n",
        "        if i in A:\n",
        "            happiness_score += 1\n",
        "        if i in B:\n",
        "            happiness_score -= 1\n",
        "    return happiness_score\n",
        "\n",
        "n, m = input().split()\n",
        "arr = list( map( int, input().split() ) )\n",
        "A = set( map( int, input().split() ) )\n",
        "B = set( map( int, input().split() ) )\n",
        "print( happ(arr, A, B ) )"
      ],
      "metadata": {
        "id": "8G7eruU_bgon"
      },
      "execution_count": null,
      "outputs": []
    }
  ]
}