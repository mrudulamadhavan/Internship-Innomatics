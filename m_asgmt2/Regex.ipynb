{
  "nbformat": 4,
  "nbformat_minor": 0,
  "metadata": {
    "colab": {
      "provenance": []
    },
    "kernelspec": {
      "name": "python3",
      "display_name": "Python 3"
    },
    "language_info": {
      "name": "python"
    }
  },
  "cells": [
    {
      "cell_type": "markdown",
      "source": [
        "# Task2: Regex"
      ],
      "metadata": {
        "id": "VcThVRalnxB3"
      }
    },
    {
      "cell_type": "markdown",
      "source": [
        "Q1) https://www.hackerrank.com/challenges/introduction-to-regex?isFullScreen=true"
      ],
      "metadata": {
        "id": "d4fgjhdDnxPa"
      }
    },
    {
      "cell_type": "code",
      "source": [
        "import re\n",
        "N = int(input())\n",
        "for _ in range(N):\n",
        "    print(re.search(r'^([-\\+])?\\d*\\.\\d+$', input()) is not None)"
      ],
      "metadata": {
        "id": "iQnmZF5KnxmV"
      },
      "execution_count": null,
      "outputs": []
    },
    {
      "cell_type": "markdown",
      "source": [
        "Q2) https://www.hackerrank.com/challenges/re-split?isFullScreen=true"
      ],
      "metadata": {
        "id": "b-5ixyJzoCpo"
      }
    },
    {
      "cell_type": "code",
      "source": [
        "import re\n",
        "regex_pattern =  r\"[.,]+\"\n",
        "print(\"\\n\".join(re.split(regex_pattern, input())))"
      ],
      "metadata": {
        "id": "gBpZ8xZVoIg_"
      },
      "execution_count": null,
      "outputs": []
    },
    {
      "cell_type": "markdown",
      "source": [
        "Q3) https://www.hackerrank.com/challenges/re-group-groups?isFullScreen=true"
      ],
      "metadata": {
        "id": "YYJVtvltoq-S"
      }
    },
    {
      "cell_type": "code",
      "source": [
        "import re\n",
        "S = re.findall(r\"([A-Za-z0-9])\\1+\",input(\"S: \"))\n",
        "if S:\n",
        "    print(S[0])\n",
        "else:\n",
        "    print(-1)"
      ],
      "metadata": {
        "id": "-zejfoRyowtm"
      },
      "execution_count": null,
      "outputs": []
    },
    {
      "cell_type": "markdown",
      "source": [
        "Q4) https://www.hackerrank.com/challenges/re-findall-re-finditer?isFullScreen=true"
      ],
      "metadata": {
        "id": "4SYyE7jeo_4h"
      }
    },
    {
      "cell_type": "code",
      "source": [
        "import re\n",
        "\n",
        "s = input(\"S: \")\n",
        "lst = re.findall(r'(?<=[QWRTYPSDFGHJKLZXCVBNMqwrtypsdfghjklzxcvbnm])[aeiouAEIOU]{2,}(?=[QWRTYPSDFGHJKLZXCVBNMqwrtypsdfghjklzxcvbnm])', s)\n",
        "\n",
        "if len(lst) > 0:\n",
        "    for element in lst:\n",
        "        print(element)\n",
        "else:\n",
        "    print(-1)"
      ],
      "metadata": {
        "id": "juWfIduZpJdG"
      },
      "execution_count": null,
      "outputs": []
    },
    {
      "cell_type": "markdown",
      "source": [
        "Q5) https://www.hackerrank.com/challenges/re-start-re-end?isFullScreen=true"
      ],
      "metadata": {
        "id": "IRUE5W-UpVBe"
      }
    },
    {
      "cell_type": "code",
      "source": [
        "\n",
        "import re\n",
        "S = input(\"S: \")\n",
        "k = input(\"k: \")\n",
        "pattern = re.compile(k)\n",
        "r = pattern.search(S)\n",
        "if not r: print(\"(-1, -1)\")\n",
        "while r:\n",
        "    print(\"({0}, {1})\".format(r.start(), r.end() - 1))\n",
        "    r = pattern.search(S,r.start() + 1)"
      ],
      "metadata": {
        "id": "nZKhhCz3pcdR"
      },
      "execution_count": null,
      "outputs": []
    },
    {
      "cell_type": "markdown",
      "source": [
        "Q6) https://www.hackerrank.com/challenges/re-sub-regex-substitution?isFullScreen=true"
      ],
      "metadata": {
        "id": "ns_ec-N4ppS7"
      }
    },
    {
      "cell_type": "code",
      "source": [
        "import re\n",
        "\n",
        "N = int(input(\"N: \"))\n",
        "\n",
        "for i in range(0,N):\n",
        "   txt = input()\n",
        "   txt = re.sub(r\"\\ \\&\\&\\ \",\" and \",txt)\n",
        "   txt = re.sub(r\"\\ \\|\\|\\ \",\" or \",txt)\n",
        "   txt = re.sub(r\"\\ \\&\\&\\ \",\" and \",txt)\n",
        "   txt = re.sub(r\"\\ \\|\\|\\ \",\" or \",txt)\n",
        "   print(txt)\n"
      ],
      "metadata": {
        "id": "knid6mQ3pppD"
      },
      "execution_count": null,
      "outputs": []
    },
    {
      "cell_type": "markdown",
      "source": [
        "Q7) https://www.hackerrank.com/challenges/validate-a-roman-number?isFullScreen=true"
      ],
      "metadata": {
        "id": "qR8KK1pcpp9W"
      }
    },
    {
      "cell_type": "code",
      "source": [
        " import re\n",
        "thousand = 'M{0,3}'\n",
        "hundred = '(C[MD]|D?C{0,3})'\n",
        "ten = '(X[CL]|L?X{0,3})'\n",
        "digit = '(I[VX]|V?I{0,3})'\n",
        "regex_pattern = r\"%s%s%s%s$\" % (thousand, hundred, ten, digit)  \n",
        "print(str(bool(re.match(regex_pattern, input()))))"
      ],
      "metadata": {
        "id": "1nnD_UXipqOn"
      },
      "execution_count": null,
      "outputs": []
    },
    {
      "cell_type": "markdown",
      "source": [
        "Q8) https://www.hackerrank.com/challenges/validating-the-phone-number?isFullScreen=true"
      ],
      "metadata": {
        "id": "os5ucYjFqXwi"
      }
    },
    {
      "cell_type": "code",
      "source": [
        "import re\n",
        "N = int(input())\n",
        "for _ in range(N):\n",
        "    if re.match(r'[789]\\d{9}$',input()):   \n",
        "        print('YES')  \n",
        "    else:  \n",
        "        print('NO')"
      ],
      "metadata": {
        "id": "D1bRBeEZqecU"
      },
      "execution_count": null,
      "outputs": []
    },
    {
      "cell_type": "markdown",
      "source": [
        "Q9) https://www.hackerrank.com/challenges/validating-named-email-addresses?isFullScreen=true"
      ],
      "metadata": {
        "id": "ilFrsSgMqlZg"
      }
    },
    {
      "cell_type": "code",
      "source": [
        "import re\n",
        "\n",
        "N = int(input())\n",
        "\n",
        "for i in range(N):\n",
        "    name, email = input().split()\n",
        "    pattern=\"<[a-z][a-zA-Z0-9\\-\\.\\_]+@[a-zA-Z]+\\.[a-zA-Z]{1,3}>\"\n",
        "    if bool(re.match(pattern, email)):\n",
        "        print(name,email)"
      ],
      "metadata": {
        "id": "1AJ_qX5mqsIa"
      },
      "execution_count": null,
      "outputs": []
    },
    {
      "cell_type": "markdown",
      "source": [
        "Q10) https://www.hackerrank.com/challenges/hex-color-code?isFullScreen=true"
      ],
      "metadata": {
        "id": "hFU_SPZfqzPP"
      }
    },
    {
      "cell_type": "code",
      "source": [
        "import re\n",
        "N=int(input(\"N: \"))\n",
        "\n",
        "for i in range(0,N):\n",
        "    s=input()\n",
        "\n",
        "    x=s.split()\n",
        "\n",
        "    if len(x)>1  and  '{' not in x:\n",
        "        x=re.findall(r'#[a-fA-F0-9]{3,6}',s)\n",
        "        [print(i) for  i in x]"
      ],
      "metadata": {
        "id": "td9XPNUJq5ti"
      },
      "execution_count": null,
      "outputs": []
    },
    {
      "cell_type": "markdown",
      "source": [
        "Q11) https://www.hackerrank.com/challenges/html-parser-part-1?isFullScreen=true"
      ],
      "metadata": {
        "id": "k4v2js0DrC39"
      }
    },
    {
      "cell_type": "code",
      "source": [
        "from html.parser import HTMLParser\n",
        "class MyHTMLParser(HTMLParser):\n",
        "    def handle_starttag(self, tag, attrs):        \n",
        "        print ('Start :',tag)\n",
        "        for ele in attrs:\n",
        "            print ('->',ele[0],'>',ele[1])\n",
        "            \n",
        "    def handle_endtag(self, tag):\n",
        "        print ('End   :',tag)\n",
        "        \n",
        "    def handle_startendtag(self, tag, attrs):\n",
        "        print ('Empty :',tag)\n",
        "        for ele in attrs:\n",
        "            print ('->',ele[0],'>',ele[1])\n",
        "            \n",
        "MyParser = MyHTMLParser()\n",
        "MyParser.feed(''.join([input().strip() for _ in range(int(input()))]))"
      ],
      "metadata": {
        "id": "oP5kVbM1rt9g"
      },
      "execution_count": null,
      "outputs": []
    },
    {
      "cell_type": "markdown",
      "source": [
        "Q12) https://www.hackerrank.com/challenges/html-parser-part-2?isFullScreen=true"
      ],
      "metadata": {
        "id": "zok3QkQPssh9"
      }
    },
    {
      "cell_type": "code",
      "source": [
        "from html.parser import HTMLParser\n",
        "\n",
        "class MyHTMLParser(HTMLParser):\n",
        "\n",
        "    \n",
        "    def handle_comment(self, data):\n",
        "        if (len(data.split('\\n')) != 1):\n",
        "            print(\">>> Multi-line Comment\")\n",
        "        else:\n",
        "            print(\">>> Single-line Comment\")\n",
        "        print(data.replace(\"\\r\", \"\\n\"))\n",
        "    def handle_data(self, data):\n",
        "        if data.strip():\n",
        "            print(\">>> Data\")\n",
        "            print(data)\n",
        "    \n",
        "  \n",
        "html = \"\"       \n",
        "for i in range(int(input())):\n",
        "    html += input().rstrip()\n",
        "    html += '\\n'\n",
        "    \n",
        "parser = MyHTMLParser()\n",
        "parser.feed(html)\n",
        "parser.close()\n"
      ],
      "metadata": {
        "id": "azq_FjSSsz_F"
      },
      "execution_count": null,
      "outputs": []
    },
    {
      "cell_type": "markdown",
      "source": [
        "Q13) https://www.hackerrank.com/challenges/detect-html-tags-attributes-and-attribute-values?isFullScreen=true"
      ],
      "metadata": {
        "id": "5jOuCDQ3s-JN"
      }
    },
    {
      "cell_type": "code",
      "source": [
        "from html.parser import HTMLParser\n",
        "class MyHTMLParser(HTMLParser):\n",
        "    def handle_starttag(self, tag, attrs):\n",
        "        print(tag)\n",
        "        [print('-> {} > {}'.format(*attr)) for attr in attrs]\n",
        "        \n",
        "html = '\\n'.join([input() for _ in range(int(input()))])\n",
        "parser = MyHTMLParser()\n",
        "parser.feed(html)\n",
        "parser.close()"
      ],
      "metadata": {
        "id": "z-OLGgN6tIjZ"
      },
      "execution_count": null,
      "outputs": []
    },
    {
      "cell_type": "markdown",
      "source": [
        "Q14) https://www.hackerrank.com/challenges/validating-uid?isFullScreen=true"
      ],
      "metadata": {
        "id": "A5x5FcwJtRTr"
      }
    },
    {
      "cell_type": "code",
      "source": [
        "# Enter your code here. Read input from STDIN. Print output to STDOUT\n",
        "import re\n",
        "\n",
        "for i in range(int(input())):\n",
        "    N = input().strip()\n",
        "    if N.isalnum() and len(N) == 10:\n",
        "        if bool(re.search(r'(.*[A-Z]){2,}',N)) and bool(re.search(r'(.*[0-9]){3,}',N)):\n",
        "            if re.search(r'.*(.).*\\1+.*',N):\n",
        "                print('Invalid')\n",
        "            else:\n",
        "                print('Valid')\n",
        "        else:\n",
        "            print('Invalid')\n",
        "    else:\n",
        "        print('Invalid')\n"
      ],
      "metadata": {
        "id": "cTbONRGBtfFW"
      },
      "execution_count": null,
      "outputs": []
    },
    {
      "cell_type": "markdown",
      "source": [
        "Q15) https://www.hackerrank.com/challenges/validating-credit-card-number?isFullScreen=true"
      ],
      "metadata": {
        "id": "aGXntCHStmNm"
      }
    },
    {
      "cell_type": "code",
      "source": [
        "import re\n",
        "pattern = re.compile(\n",
        "    r'^'\n",
        "    r'(?!.*(\\d)(-?\\1){3})'\n",
        "    r'[456]\\d{3}'\n",
        "    r'(?:-?\\d{4}){3}'\n",
        "    r'$')\n",
        "\n",
        "for _ in range(int(input().strip())):    \n",
        "   print('Valid' if pattern.search(input().strip()) else 'Invalid')\n"
      ],
      "metadata": {
        "id": "6SkW624KtxmV"
      },
      "execution_count": null,
      "outputs": []
    },
    {
      "cell_type": "markdown",
      "source": [
        "Q16) https://www.hackerrank.com/challenges/validating-postalcode?isFullScreen=true"
      ],
      "metadata": {
        "id": "IhbdFHd8t8zD"
      }
    },
    {
      "cell_type": "code",
      "source": [
        "import re\n",
        "\n",
        "P = input()\n",
        "\n",
        "regex_integer_in_range = r'^[1-9][\\d]{5}$'  \n",
        "regex_alternating_repetitive_digit_pair = r'(\\d)(?=\\d\\1)'  \n",
        "\n",
        "print (bool(re.match(regex_integer_in_range, P))\n",
        "       and len(re.findall(regex_alternating_repetitive_digit_pair, P)) < 2)\n"
      ],
      "metadata": {
        "id": "86NMPwfquEie"
      },
      "execution_count": null,
      "outputs": []
    },
    {
      "cell_type": "markdown",
      "source": [
        "Q17) https://www.hackerrank.com/challenges/matrix-script?isFullScreen=true"
      ],
      "metadata": {
        "id": "1vY4vanxuRIH"
      }
    },
    {
      "cell_type": "code",
      "source": [
        "\n",
        "import math\n",
        "import os\n",
        "import random\n",
        "import re\n",
        "import sys\n",
        "\n",
        "first_multiple_input = input().rstrip().split()\n",
        "n = int(first_multiple_input[0])\n",
        "m = int(first_multiple_input[1])\n",
        "matrix = []\n",
        "for _ in range(n):\n",
        "    matrix_item = input()\n",
        "    matrix.append(matrix_item)\n",
        "encoded_string = \"\".join([matrix[j][i] for i in range(m) for j in range(n)])\n",
        "pat = r'(?<=[a-zA-Z0-9])[^a-zA-Z0-9]+(?=[a-zA-Z0-9])'\n",
        "print(re.sub(pat,' ',encoded_string))\n"
      ],
      "metadata": {
        "id": "_TFV4KoMuhTF"
      },
      "execution_count": null,
      "outputs": []
    }
  ]
}