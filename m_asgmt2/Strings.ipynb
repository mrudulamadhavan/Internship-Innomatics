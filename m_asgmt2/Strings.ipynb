{
  "nbformat": 4,
  "nbformat_minor": 0,
  "metadata": {
    "colab": {
      "provenance": []
    },
    "kernelspec": {
      "name": "python3",
      "display_name": "Python 3"
    },
    "language_info": {
      "name": "python"
    }
  },
  "cells": [
    {
      "cell_type": "markdown",
      "source": [
        "# Task2 : Strings"
      ],
      "metadata": {
        "id": "A4N-EazYiNq9"
      }
    },
    {
      "cell_type": "markdown",
      "source": [
        "Q1) https://www.hackerrank.com/challenges/swap-case?isFullScreen=true"
      ],
      "metadata": {
        "id": "69gz3qZCiPdh"
      }
    },
    {
      "cell_type": "code",
      "source": [
        "def swap_case(s):\n",
        "    return s.swapcase()\n",
        "\n",
        "s = input(\"Enter a string: \")\n",
        "result = swap_case(s)\n",
        "print(result)"
      ],
      "metadata": {
        "colab": {
          "base_uri": "https://localhost:8080/"
        },
        "id": "Wo1ShwvZiPzn",
        "outputId": "18cf4c30-b51d-49cd-eaa8-607e85e0a770"
      },
      "execution_count": null,
      "outputs": [
        {
          "output_type": "stream",
          "name": "stdout",
          "text": [
            "Enter a string: AppLE\n",
            "aPPle\n"
          ]
        }
      ]
    },
    {
      "cell_type": "markdown",
      "source": [
        "Q2) https://www.hackerrank.com/challenges/python-string-split-and-join?isFullScreen=true"
      ],
      "metadata": {
        "id": "KDWHHtQAkHlw"
      }
    },
    {
      "cell_type": "code",
      "source": [
        "def split_and_join(line):\n",
        "    str_arr = line.split(\" \")\n",
        "    return \"-\".join(str_arr)\n",
        "\n",
        "line = input(\"Enter a string: \")\n",
        "result = split_and_join(line)\n",
        "print(result)"
      ],
      "metadata": {
        "colab": {
          "base_uri": "https://localhost:8080/"
        },
        "id": "tBUdAHxNkNv4",
        "outputId": "577c0e4c-b0b4-4fb0-ede8-a89a98ac4c90"
      },
      "execution_count": null,
      "outputs": [
        {
          "output_type": "stream",
          "name": "stdout",
          "text": [
            "Enter a string: Knowledge is power\n",
            "Knowledge-is-power\n"
          ]
        }
      ]
    },
    {
      "cell_type": "markdown",
      "source": [
        "Q3) https://www.hackerrank.com/challenges/whats-your-name?isFullScreen=true"
      ],
      "metadata": {
        "id": "5cm-jvHCkqps"
      }
    },
    {
      "cell_type": "code",
      "source": [
        "def print_full_name(first_name, last_name):\n",
        "    \n",
        "    print(\"Hello \" + first_name + \" \" + last_name + \"! You just delved into python.\")\n",
        "\n",
        "\n",
        "first_name = input(\"firstname: \")\n",
        "last_name = input(\"lastname: \")\n",
        "print_full_name(first_name, last_name)"
      ],
      "metadata": {
        "colab": {
          "base_uri": "https://localhost:8080/"
        },
        "id": "6Ko7vPsDkwJF",
        "outputId": "008e68bf-f20d-4d32-99dc-4bf6b4f8c3a6"
      },
      "execution_count": null,
      "outputs": [
        {
          "output_type": "stream",
          "name": "stdout",
          "text": [
            "firstname: Jawaharlal\n",
            "lastname: Nehru\n",
            "Hello Jawaharlal Nehru! You just delved into python.\n"
          ]
        }
      ]
    },
    {
      "cell_type": "markdown",
      "source": [
        "Q4) https://www.hackerrank.com/challenges/python-mutations?isFullScreen=true"
      ],
      "metadata": {
        "id": "cCGHqX8mlmRM"
      }
    },
    {
      "cell_type": "code",
      "source": [
        "def mutate_string(string, position, character):\n",
        "    \n",
        "    str_list = list(string)\n",
        "    str_list[position] = character\n",
        "    return ''.join(str_list)\n",
        "\n",
        "s = input(\"String: \")\n",
        "i, c = input().split()\n",
        "s_new = mutate_string(s, int(i), c)\n",
        "print(s_new)"
      ],
      "metadata": {
        "colab": {
          "base_uri": "https://localhost:8080/"
        },
        "id": "U_-DDT2TlsRL",
        "outputId": "a58fc508-9b0b-4aeb-fde6-a95b041c2bb0"
      },
      "execution_count": null,
      "outputs": [
        {
          "output_type": "stream",
          "name": "stdout",
          "text": [
            "String: Knowledge\n",
            "2 5\n",
            "Kn5wledge\n"
          ]
        }
      ]
    },
    {
      "cell_type": "markdown",
      "source": [
        "Q5) https://www.hackerrank.com/challenges/find-a-string?isFullScreen=true"
      ],
      "metadata": {
        "id": "AMPjWD88mSe3"
      }
    },
    {
      "cell_type": "code",
      "source": [
        "def count_substring(string, sub_string):\n",
        "    count = 0\n",
        "    for i in range(0, len(string) - len(sub_string) + 1):\n",
        "        if string[i] == sub_string[0]:\n",
        "            flag = 1\n",
        "            for j in range(0, len(sub_string)):\n",
        "                if string[i+j] != sub_string[j]:\n",
        "                    flag = 0\n",
        "                    break\n",
        "            if 1 == flag:\n",
        "                count += 1\n",
        "    return count\n",
        "\n",
        "string = input().strip()\n",
        "sub_string = input().strip()"
      ],
      "metadata": {
        "id": "3cXKkuQYmabX"
      },
      "execution_count": null,
      "outputs": []
    },
    {
      "cell_type": "markdown",
      "source": [
        "Q6) https://www.hackerrank.com/challenges/string-validators?isFullScreen=true"
      ],
      "metadata": {
        "id": "vPZ0OunXmtQW"
      }
    },
    {
      "cell_type": "code",
      "source": [
        "s = input(\"String :\")    \n",
        "print(any(n.isalnum() for n in s))\n",
        "print(any(n.isalpha() for n in s))\n",
        "print(any(n.isdigit() for n in s))\n",
        "print(any(n.islower() for n in s))\n",
        "print(any(n.isupper() for n in s))"
      ],
      "metadata": {
        "colab": {
          "base_uri": "https://localhost:8080/"
        },
        "id": "8bWrrr3lm_2o",
        "outputId": "ec7d11b4-8e7c-4cff-c94a-422889397fbc"
      },
      "execution_count": null,
      "outputs": [
        {
          "output_type": "stream",
          "name": "stdout",
          "text": [
            "String :Power\n",
            "True\n",
            "True\n",
            "False\n",
            "True\n",
            "True\n"
          ]
        }
      ]
    },
    {
      "cell_type": "markdown",
      "source": [
        "Q7) https://www.hackerrank.com/challenges/text-alignment?isFullScreen=true"
      ],
      "metadata": {
        "id": "Hh0N4TNPndij"
      }
    },
    {
      "cell_type": "code",
      "source": [
        "thickness = int(input())\n",
        "c = 'H'\n",
        "\n",
        "# Top Cone\n",
        "for i in range(thickness):\n",
        "    print((c*i).rjust(thickness-1)+c+(c*i).ljust(thickness-1))\n",
        "\n",
        "# Top Pillars\n",
        "for i in range(thickness+1):\n",
        "    print((c*thickness).center(thickness*2)+(c*thickness).center(thickness*6))\n",
        "\n",
        "# Middle Belt\n",
        "for i in range((thickness+1)//2):\n",
        "    print((c*thickness*5).center(thickness*6))\n",
        "\n",
        "# Bottom Pillars\n",
        "for i in range(thickness+1):\n",
        "    print((c*thickness).center(thickness*2)+(c*thickness).center(thickness*6))\n",
        "\n",
        "# Bottom Cone\n",
        "for i in range(thickness):\n",
        "    print(((c*(thickness-i-1)).rjust(thickness)+c+(c*(thickness-i-1)).ljust(thickness)).rjust(thickness*6))"
      ],
      "metadata": {
        "id": "zF-8iGkFni69"
      },
      "execution_count": null,
      "outputs": []
    },
    {
      "cell_type": "markdown",
      "source": [
        "Q8) https://www.hackerrank.com/challenges/text-wrap?isFullScreen=true"
      ],
      "metadata": {
        "id": "XkzzpzY7nzOz"
      }
    },
    {
      "cell_type": "code",
      "source": [
        "import textwrap\n",
        "\n",
        "def wrap(string, max_width):\n",
        "    return textwrap.fill(string, max_width)\n",
        "\n",
        "string, max_width = input(), int(input())\n",
        "result = wrap(string, max_width)\n",
        "print(result)"
      ],
      "metadata": {
        "id": "rs6727QNn4Ug"
      },
      "execution_count": null,
      "outputs": []
    },
    {
      "cell_type": "markdown",
      "source": [
        "Q9) https://www.hackerrank.com/challenges/designer-door-mat?isFullScreen=true"
      ],
      "metadata": {
        "id": "v3wfvwLuoJFm"
      }
    },
    {
      "cell_type": "code",
      "source": [
        "symbol = '.|.'\n",
        "n, m = input().split()\n",
        "n = int(n)\n",
        "m = int(m)\n",
        "center = int(n/ 2)+1\n",
        "length = 1\n",
        "for i in range(1, n+1):\n",
        "    if i < center:\n",
        "        print((symbol*length).center(m, '-'))\n",
        "        length += 2\n",
        "    elif i > center:\n",
        "        print((symbol*length).center(m, '-'))\n",
        "        length -= 2\n",
        "    else:\n",
        "        print(\"WELCOME\".center(m, '-'))\n",
        "        length -= 2"
      ],
      "metadata": {
        "colab": {
          "base_uri": "https://localhost:8080/"
        },
        "id": "sZGOGl5ooO6z",
        "outputId": "5c62698b-7bea-4023-be78-2635a482f985"
      },
      "execution_count": null,
      "outputs": [
        {
          "output_type": "stream",
          "name": "stdout",
          "text": [
            "7 9\n",
            "---.|.---\n",
            ".|..|..|.\n",
            ".|..|..|..|..|.\n",
            "-WELCOME-\n",
            ".|..|..|..|..|.\n",
            ".|..|..|.\n",
            "---.|.---\n"
          ]
        }
      ]
    },
    {
      "cell_type": "markdown",
      "source": [
        "Q10) https://www.hackerrank.com/challenges/python-string-formatting?isFullScreen=true"
      ],
      "metadata": {
        "id": "1pQq-EWhozUK"
      }
    },
    {
      "cell_type": "code",
      "source": [
        "def print_formatted(number):\n",
        "    width = len(\"{0:b}\".format(number))\n",
        "    for i in range(1, n + 1):\n",
        "        print(\"{0:{width}d} {0:{width}o} {0:{width}X} {0:{width}b}\".format(i, width=width))\n",
        "\n",
        "n = int(input(\"N: \"))\n",
        "print_formatted(n)"
      ],
      "metadata": {
        "colab": {
          "base_uri": "https://localhost:8080/"
        },
        "id": "VKAms63jo6J1",
        "outputId": "92115165-303b-4b37-a212-7770937d3822"
      },
      "execution_count": null,
      "outputs": [
        {
          "output_type": "stream",
          "name": "stdout",
          "text": [
            "N: 5\n",
            "  1   1   1   1\n",
            "  2   2   2  10\n",
            "  3   3   3  11\n",
            "  4   4   4 100\n",
            "  5   5   5 101\n"
          ]
        }
      ]
    },
    {
      "cell_type": "markdown",
      "source": [
        "Q11) https://www.hackerrank.com/challenges/alphabet-rangoli?isFullScreen=true"
      ],
      "metadata": {
        "id": "cy7vgZ9qpw5p"
      }
    },
    {
      "cell_type": "code",
      "source": [
        "import string\n",
        "def print_rangoli(size):\n",
        "    alpha = string.ascii_lowercase\n",
        "    l = []\n",
        "    for i in range(0, size):\n",
        "        s = \"-\".join( alpha[i:size] )\n",
        "        l.append( (s[::-1] + s[1:]).center(4*n-3, '-') )\n",
        "    print( '\\n'.join(l[::-1] + l[1:]) )\n",
        "\n",
        "\n",
        "    n = int(input())\n",
        "    print_rangoli(n)"
      ],
      "metadata": {
        "id": "2Owzyp1rp1dq"
      },
      "execution_count": null,
      "outputs": []
    },
    {
      "cell_type": "markdown",
      "source": [
        "Q12) https://www.hackerrank.com/challenges/capitalize?isFullScreen=true"
      ],
      "metadata": {
        "id": "daaAHMb-qcSV"
      }
    },
    {
      "cell_type": "code",
      "source": [
        "#!/bin/python3\n",
        "\n",
        "import math\n",
        "import os\n",
        "import random\n",
        "import re\n",
        "import sys\n",
        "\n",
        "def solve(s):\n",
        "    for x in s[:].split():\n",
        "        s = s.replace(x, x.capitalize())\n",
        "    return s\n",
        "\n",
        "if __name__ == '__main__':\n",
        "    fptr = open(os.environ['OUTPUT_PATH'], 'w')\n",
        "\n",
        "    s = input()\n",
        "\n",
        "    result = solve(s)\n",
        "\n",
        "    fptr.write(result + '\\n')\n",
        "\n",
        "    fptr.close()\n"
      ],
      "metadata": {
        "id": "zoyIgx4nqeV4"
      },
      "execution_count": null,
      "outputs": []
    },
    {
      "cell_type": "markdown",
      "source": [
        "Q13) https://www.hackerrank.com/challenges/the-minion-game?isFullScreen=true"
      ],
      "metadata": {
        "id": "GHI4UmopsbO1"
      }
    },
    {
      "cell_type": "code",
      "source": [
        "def minion_game(string):\n",
        "    vowels = 'AEIOU';\n",
        "    keyscore = 0\n",
        "    stuscore = 0\n",
        "    for i in range( 0, len(string) ):\n",
        "        if string[i] in vowels:\n",
        "            keyscore += len(string) - i\n",
        "        else:\n",
        "            stuscore += len(string) - i\n",
        "\n",
        "    if keyscore > stuscore:\n",
        "        print('Kevin {}'.format(keyscore))\n",
        "    elif stuscore > keyscore:\n",
        "        print( 'Stuart {}'.format(stuscore) )\n",
        "    else:\n",
        "        print('Draw')\n",
        "\n",
        "\n",
        "s = input()\n",
        "minion_game(s)"
      ],
      "metadata": {
        "id": "o5TDOJgLshrk"
      },
      "execution_count": null,
      "outputs": []
    },
    {
      "cell_type": "markdown",
      "source": [
        "Q14) https://www.hackerrank.com/challenges/merge-the-tools?isFullScreen=true"
      ],
      "metadata": {
        "id": "eeP8iApxmuHo"
      }
    },
    {
      "cell_type": "code",
      "source": [
        "def merge_the_tools(string, k):\n",
        "    for i in range(0, len(string), k):\n",
        "        unique = []\n",
        "        str_list = list(string[i:i+k])\n",
        "        for c in str_list:\n",
        "            if c not in unique:\n",
        "                unique.append(c)\n",
        "        print(\"\".join(unique))\n",
        "\n",
        "\n",
        "string, k = input(), int(input())\n",
        "merge_the_tools(string, k)"
      ],
      "metadata": {
        "id": "K2xxtn-gm1Gc"
      },
      "execution_count": null,
      "outputs": []
    }
  ]
}