{
  "cells": [
    {
      "cell_type": "markdown",
      "metadata": {
        "id": "UZgox-Y8-w66"
      },
      "source": [
        "# **Diamond Price Prediction** "
      ]
    },
    {
      "cell_type": "code",
      "execution_count": 1,
      "metadata": {
        "id": "6KcBjhXA-q4B"
      },
      "outputs": [],
      "source": [
        "import pandas as pd \n",
        "import numpy as np\n",
        "import matplotlib.pyplot as plt\n",
        "import seaborn as sns\n",
        "import warnings \n",
        "\n",
        "warnings.filterwarnings('ignore')"
      ]
    },
    {
      "cell_type": "code",
      "execution_count": 2,
      "metadata": {
        "colab": {
          "base_uri": "https://localhost:8080/",
          "height": 206
        },
        "id": "bUEDfvlO_n6D",
        "outputId": "2323c402-a1ed-498e-f19b-2a614d9dd4ac"
      },
      "outputs": [
        {
          "data": {
            "text/html": [
              "<div>\n",
              "<style scoped>\n",
              "    .dataframe tbody tr th:only-of-type {\n",
              "        vertical-align: middle;\n",
              "    }\n",
              "\n",
              "    .dataframe tbody tr th {\n",
              "        vertical-align: top;\n",
              "    }\n",
              "\n",
              "    .dataframe thead th {\n",
              "        text-align: right;\n",
              "    }\n",
              "</style>\n",
              "<table border=\"1\" class=\"dataframe\">\n",
              "  <thead>\n",
              "    <tr style=\"text-align: right;\">\n",
              "      <th></th>\n",
              "      <th>carat</th>\n",
              "      <th>cut</th>\n",
              "      <th>color</th>\n",
              "      <th>clarity</th>\n",
              "      <th>depth</th>\n",
              "      <th>table</th>\n",
              "      <th>price</th>\n",
              "      <th>x</th>\n",
              "      <th>y</th>\n",
              "      <th>z</th>\n",
              "    </tr>\n",
              "  </thead>\n",
              "  <tbody>\n",
              "    <tr>\n",
              "      <th>0</th>\n",
              "      <td>0.23</td>\n",
              "      <td>Ideal</td>\n",
              "      <td>E</td>\n",
              "      <td>SI2</td>\n",
              "      <td>61.5</td>\n",
              "      <td>55.0</td>\n",
              "      <td>326</td>\n",
              "      <td>3.95</td>\n",
              "      <td>3.98</td>\n",
              "      <td>2.43</td>\n",
              "    </tr>\n",
              "    <tr>\n",
              "      <th>1</th>\n",
              "      <td>0.21</td>\n",
              "      <td>Premium</td>\n",
              "      <td>E</td>\n",
              "      <td>SI1</td>\n",
              "      <td>59.8</td>\n",
              "      <td>61.0</td>\n",
              "      <td>326</td>\n",
              "      <td>3.89</td>\n",
              "      <td>3.84</td>\n",
              "      <td>2.31</td>\n",
              "    </tr>\n",
              "    <tr>\n",
              "      <th>2</th>\n",
              "      <td>0.23</td>\n",
              "      <td>Good</td>\n",
              "      <td>E</td>\n",
              "      <td>VS1</td>\n",
              "      <td>56.9</td>\n",
              "      <td>65.0</td>\n",
              "      <td>327</td>\n",
              "      <td>4.05</td>\n",
              "      <td>4.07</td>\n",
              "      <td>2.31</td>\n",
              "    </tr>\n",
              "    <tr>\n",
              "      <th>3</th>\n",
              "      <td>0.29</td>\n",
              "      <td>Premium</td>\n",
              "      <td>I</td>\n",
              "      <td>VS2</td>\n",
              "      <td>62.4</td>\n",
              "      <td>58.0</td>\n",
              "      <td>334</td>\n",
              "      <td>4.20</td>\n",
              "      <td>4.23</td>\n",
              "      <td>2.63</td>\n",
              "    </tr>\n",
              "    <tr>\n",
              "      <th>4</th>\n",
              "      <td>0.31</td>\n",
              "      <td>Good</td>\n",
              "      <td>J</td>\n",
              "      <td>SI2</td>\n",
              "      <td>63.3</td>\n",
              "      <td>58.0</td>\n",
              "      <td>335</td>\n",
              "      <td>4.34</td>\n",
              "      <td>4.35</td>\n",
              "      <td>2.75</td>\n",
              "    </tr>\n",
              "  </tbody>\n",
              "</table>\n",
              "</div>"
            ],
            "text/plain": [
              "   carat      cut color clarity  depth  table  price     x     y     z\n",
              "0   0.23    Ideal     E     SI2   61.5   55.0    326  3.95  3.98  2.43\n",
              "1   0.21  Premium     E     SI1   59.8   61.0    326  3.89  3.84  2.31\n",
              "2   0.23     Good     E     VS1   56.9   65.0    327  4.05  4.07  2.31\n",
              "3   0.29  Premium     I     VS2   62.4   58.0    334  4.20  4.23  2.63\n",
              "4   0.31     Good     J     SI2   63.3   58.0    335  4.34  4.35  2.75"
            ]
          },
          "execution_count": 2,
          "metadata": {},
          "output_type": "execute_result"
        }
      ],
      "source": [
        "df = pd.read_csv('diamonds.csv')\n",
        "df.head()"
      ]
    },
    {
      "cell_type": "code",
      "execution_count": 3,
      "metadata": {
        "id": "FRx5TzZOA7pw"
      },
      "outputs": [],
      "source": [
        "df = df [['carat','cut','color','clarity','x','y','z','depth','table','price']]"
      ]
    },
    {
      "cell_type": "code",
      "execution_count": 4,
      "metadata": {
        "colab": {
          "base_uri": "https://localhost:8080/"
        },
        "id": "yE64-_fO_n9Y",
        "outputId": "3a2cd1b8-7963-4e19-9fae-a3ae7eca031a"
      },
      "outputs": [
        {
          "data": {
            "text/plain": [
              "(53940, 10)"
            ]
          },
          "execution_count": 4,
          "metadata": {},
          "output_type": "execute_result"
        }
      ],
      "source": [
        "df.shape"
      ]
    },
    {
      "cell_type": "code",
      "execution_count": 5,
      "metadata": {
        "colab": {
          "base_uri": "https://localhost:8080/"
        },
        "id": "FQRq_8hn_oAe",
        "outputId": "09af3913-86d2-483b-95c4-311f997067cb"
      },
      "outputs": [
        {
          "name": "stdout",
          "output_type": "stream",
          "text": [
            "<class 'pandas.core.frame.DataFrame'>\n",
            "RangeIndex: 53940 entries, 0 to 53939\n",
            "Data columns (total 10 columns):\n",
            " #   Column   Non-Null Count  Dtype  \n",
            "---  ------   --------------  -----  \n",
            " 0   carat    53940 non-null  float64\n",
            " 1   cut      53940 non-null  object \n",
            " 2   color    53940 non-null  object \n",
            " 3   clarity  53940 non-null  object \n",
            " 4   x        53940 non-null  float64\n",
            " 5   y        53940 non-null  float64\n",
            " 6   z        53940 non-null  float64\n",
            " 7   depth    53940 non-null  float64\n",
            " 8   table    53940 non-null  float64\n",
            " 9   price    53940 non-null  int64  \n",
            "dtypes: float64(6), int64(1), object(3)\n",
            "memory usage: 4.1+ MB\n"
          ]
        }
      ],
      "source": [
        "df.info()"
      ]
    },
    {
      "cell_type": "code",
      "execution_count": 6,
      "metadata": {
        "colab": {
          "base_uri": "https://localhost:8080/",
          "height": 300
        },
        "id": "eTRtAcYl_oD5",
        "outputId": "7ae6aef9-3de3-41f0-8b57-d40bb376fc8b"
      },
      "outputs": [
        {
          "data": {
            "text/html": [
              "<div>\n",
              "<style scoped>\n",
              "    .dataframe tbody tr th:only-of-type {\n",
              "        vertical-align: middle;\n",
              "    }\n",
              "\n",
              "    .dataframe tbody tr th {\n",
              "        vertical-align: top;\n",
              "    }\n",
              "\n",
              "    .dataframe thead th {\n",
              "        text-align: right;\n",
              "    }\n",
              "</style>\n",
              "<table border=\"1\" class=\"dataframe\">\n",
              "  <thead>\n",
              "    <tr style=\"text-align: right;\">\n",
              "      <th></th>\n",
              "      <th>carat</th>\n",
              "      <th>x</th>\n",
              "      <th>y</th>\n",
              "      <th>z</th>\n",
              "      <th>depth</th>\n",
              "      <th>table</th>\n",
              "      <th>price</th>\n",
              "    </tr>\n",
              "  </thead>\n",
              "  <tbody>\n",
              "    <tr>\n",
              "      <th>count</th>\n",
              "      <td>53940.000</td>\n",
              "      <td>53940.000</td>\n",
              "      <td>53940.000</td>\n",
              "      <td>53940.000</td>\n",
              "      <td>53940.000</td>\n",
              "      <td>53940.000</td>\n",
              "      <td>53940.00</td>\n",
              "    </tr>\n",
              "    <tr>\n",
              "      <th>mean</th>\n",
              "      <td>0.798</td>\n",
              "      <td>5.731</td>\n",
              "      <td>5.735</td>\n",
              "      <td>3.539</td>\n",
              "      <td>61.749</td>\n",
              "      <td>57.457</td>\n",
              "      <td>3932.80</td>\n",
              "    </tr>\n",
              "    <tr>\n",
              "      <th>std</th>\n",
              "      <td>0.474</td>\n",
              "      <td>1.122</td>\n",
              "      <td>1.142</td>\n",
              "      <td>0.706</td>\n",
              "      <td>1.433</td>\n",
              "      <td>2.234</td>\n",
              "      <td>3989.44</td>\n",
              "    </tr>\n",
              "    <tr>\n",
              "      <th>min</th>\n",
              "      <td>0.200</td>\n",
              "      <td>0.000</td>\n",
              "      <td>0.000</td>\n",
              "      <td>0.000</td>\n",
              "      <td>43.000</td>\n",
              "      <td>43.000</td>\n",
              "      <td>326.00</td>\n",
              "    </tr>\n",
              "    <tr>\n",
              "      <th>25%</th>\n",
              "      <td>0.400</td>\n",
              "      <td>4.710</td>\n",
              "      <td>4.720</td>\n",
              "      <td>2.910</td>\n",
              "      <td>61.000</td>\n",
              "      <td>56.000</td>\n",
              "      <td>950.00</td>\n",
              "    </tr>\n",
              "    <tr>\n",
              "      <th>50%</th>\n",
              "      <td>0.700</td>\n",
              "      <td>5.700</td>\n",
              "      <td>5.710</td>\n",
              "      <td>3.530</td>\n",
              "      <td>61.800</td>\n",
              "      <td>57.000</td>\n",
              "      <td>2401.00</td>\n",
              "    </tr>\n",
              "    <tr>\n",
              "      <th>75%</th>\n",
              "      <td>1.040</td>\n",
              "      <td>6.540</td>\n",
              "      <td>6.540</td>\n",
              "      <td>4.040</td>\n",
              "      <td>62.500</td>\n",
              "      <td>59.000</td>\n",
              "      <td>5324.25</td>\n",
              "    </tr>\n",
              "    <tr>\n",
              "      <th>max</th>\n",
              "      <td>5.010</td>\n",
              "      <td>10.740</td>\n",
              "      <td>58.900</td>\n",
              "      <td>31.800</td>\n",
              "      <td>79.000</td>\n",
              "      <td>95.000</td>\n",
              "      <td>18823.00</td>\n",
              "    </tr>\n",
              "  </tbody>\n",
              "</table>\n",
              "</div>"
            ],
            "text/plain": [
              "           carat          x          y          z      depth      table  \\\n",
              "count  53940.000  53940.000  53940.000  53940.000  53940.000  53940.000   \n",
              "mean       0.798      5.731      5.735      3.539     61.749     57.457   \n",
              "std        0.474      1.122      1.142      0.706      1.433      2.234   \n",
              "min        0.200      0.000      0.000      0.000     43.000     43.000   \n",
              "25%        0.400      4.710      4.720      2.910     61.000     56.000   \n",
              "50%        0.700      5.700      5.710      3.530     61.800     57.000   \n",
              "75%        1.040      6.540      6.540      4.040     62.500     59.000   \n",
              "max        5.010     10.740     58.900     31.800     79.000     95.000   \n",
              "\n",
              "          price  \n",
              "count  53940.00  \n",
              "mean    3932.80  \n",
              "std     3989.44  \n",
              "min      326.00  \n",
              "25%      950.00  \n",
              "50%     2401.00  \n",
              "75%     5324.25  \n",
              "max    18823.00  "
            ]
          },
          "execution_count": 6,
          "metadata": {},
          "output_type": "execute_result"
        }
      ],
      "source": [
        "df.describe().round(3)"
      ]
    },
    {
      "cell_type": "code",
      "execution_count": 7,
      "metadata": {
        "id": "NVyTbMJ1Mk8e"
      },
      "outputs": [],
      "source": [
        "#Dropping the outliers. \n",
        "df = df[(df[\"depth\"]<75)&(df[\"depth\"]>45)]\n",
        "df = df[(df[\"table\"]<80)&(df[\"table\"]>40)]\n",
        "df = df[(df[\"x\"]<30)]\n",
        "df = df[(df[\"y\"]<30)]\n",
        "df = df[(df[\"z\"]<30)&(df[\"z\"]>2)]"
      ]
    },
    {
      "cell_type": "code",
      "execution_count": 8,
      "metadata": {},
      "outputs": [],
      "source": [
        "#Function to change clarity\n",
        "def clarity_fn(clarity):\n",
        "    if clarity=='I1':\n",
        "        return 0.0\n",
        "    elif clarity=='SI2':\n",
        "        return 1.0\n",
        "    elif clarity=='SI1':\n",
        "        return 2.0\n",
        "    elif clarity=='VS2':\n",
        "        return 3.0\n",
        "    elif clarity=='VS1':\n",
        "        return 4.0\n",
        "    elif clarity=='VVS2':\n",
        "        return 5.0\n",
        "    elif clarity=='VVS1':\n",
        "        return 6.0  \n",
        "    elif clarity=='IF':\n",
        "        return 7.0\n",
        "df['clarity']=df['clarity'].apply(clarity_fn)\n",
        "\n",
        "#Function to change cut quality\n",
        "def cut_qlty(cut):\n",
        "    if cut=='Fair':\n",
        "        return 0.0\n",
        "    elif cut=='Good':\n",
        "        return 1.0\n",
        "    elif cut=='Ideal':\n",
        "        return 2.0\n",
        "    elif cut =='Premium':\n",
        "        return 3.0\n",
        "    elif cut =='Very Good':\n",
        "        return 4.0\n",
        "df['cut']=df['cut'].apply(cut_qlty)\n",
        "\n",
        "#Function to change cut quality\n",
        "def color_fn(color):\n",
        "    if color=='D':\n",
        "        return 0.0\n",
        "    elif color=='E':\n",
        "        return 1.0\n",
        "    elif color=='F':\n",
        "        return 2.0\n",
        "    elif color =='G':\n",
        "        return 3.0\n",
        "    elif color =='H':\n",
        "        return 4.0\n",
        "    elif color =='I':\n",
        "        return 5.0\n",
        "    elif color =='J':\n",
        "        return 6.0\n",
        "df['color']=df['color'].apply(color_fn)"
      ]
    },
    {
      "cell_type": "code",
      "execution_count": 9,
      "metadata": {},
      "outputs": [
        {
          "data": {
            "text/html": [
              "<div>\n",
              "<style scoped>\n",
              "    .dataframe tbody tr th:only-of-type {\n",
              "        vertical-align: middle;\n",
              "    }\n",
              "\n",
              "    .dataframe tbody tr th {\n",
              "        vertical-align: top;\n",
              "    }\n",
              "\n",
              "    .dataframe thead th {\n",
              "        text-align: right;\n",
              "    }\n",
              "</style>\n",
              "<table border=\"1\" class=\"dataframe\">\n",
              "  <thead>\n",
              "    <tr style=\"text-align: right;\">\n",
              "      <th></th>\n",
              "      <th>carat</th>\n",
              "      <th>cut</th>\n",
              "      <th>color</th>\n",
              "      <th>clarity</th>\n",
              "      <th>x</th>\n",
              "      <th>y</th>\n",
              "      <th>z</th>\n",
              "      <th>depth</th>\n",
              "      <th>table</th>\n",
              "      <th>price</th>\n",
              "    </tr>\n",
              "  </thead>\n",
              "  <tbody>\n",
              "    <tr>\n",
              "      <th>0</th>\n",
              "      <td>0.23</td>\n",
              "      <td>2.0</td>\n",
              "      <td>1.0</td>\n",
              "      <td>1.0</td>\n",
              "      <td>3.95</td>\n",
              "      <td>3.98</td>\n",
              "      <td>2.43</td>\n",
              "      <td>61.5</td>\n",
              "      <td>55.0</td>\n",
              "      <td>326</td>\n",
              "    </tr>\n",
              "    <tr>\n",
              "      <th>1</th>\n",
              "      <td>0.21</td>\n",
              "      <td>3.0</td>\n",
              "      <td>1.0</td>\n",
              "      <td>2.0</td>\n",
              "      <td>3.89</td>\n",
              "      <td>3.84</td>\n",
              "      <td>2.31</td>\n",
              "      <td>59.8</td>\n",
              "      <td>61.0</td>\n",
              "      <td>326</td>\n",
              "    </tr>\n",
              "    <tr>\n",
              "      <th>2</th>\n",
              "      <td>0.23</td>\n",
              "      <td>1.0</td>\n",
              "      <td>1.0</td>\n",
              "      <td>4.0</td>\n",
              "      <td>4.05</td>\n",
              "      <td>4.07</td>\n",
              "      <td>2.31</td>\n",
              "      <td>56.9</td>\n",
              "      <td>65.0</td>\n",
              "      <td>327</td>\n",
              "    </tr>\n",
              "    <tr>\n",
              "      <th>3</th>\n",
              "      <td>0.29</td>\n",
              "      <td>3.0</td>\n",
              "      <td>5.0</td>\n",
              "      <td>3.0</td>\n",
              "      <td>4.20</td>\n",
              "      <td>4.23</td>\n",
              "      <td>2.63</td>\n",
              "      <td>62.4</td>\n",
              "      <td>58.0</td>\n",
              "      <td>334</td>\n",
              "    </tr>\n",
              "    <tr>\n",
              "      <th>4</th>\n",
              "      <td>0.31</td>\n",
              "      <td>1.0</td>\n",
              "      <td>6.0</td>\n",
              "      <td>1.0</td>\n",
              "      <td>4.34</td>\n",
              "      <td>4.35</td>\n",
              "      <td>2.75</td>\n",
              "      <td>63.3</td>\n",
              "      <td>58.0</td>\n",
              "      <td>335</td>\n",
              "    </tr>\n",
              "  </tbody>\n",
              "</table>\n",
              "</div>"
            ],
            "text/plain": [
              "   carat  cut  color  clarity     x     y     z  depth  table  price\n",
              "0   0.23  2.0    1.0      1.0  3.95  3.98  2.43   61.5   55.0    326\n",
              "1   0.21  3.0    1.0      2.0  3.89  3.84  2.31   59.8   61.0    326\n",
              "2   0.23  1.0    1.0      4.0  4.05  4.07  2.31   56.9   65.0    327\n",
              "3   0.29  3.0    5.0      3.0  4.20  4.23  2.63   62.4   58.0    334\n",
              "4   0.31  1.0    6.0      1.0  4.34  4.35  2.75   63.3   58.0    335"
            ]
          },
          "execution_count": 9,
          "metadata": {},
          "output_type": "execute_result"
        }
      ],
      "source": [
        "df.head()"
      ]
    },
    {
      "cell_type": "code",
      "execution_count": 10,
      "metadata": {
        "id": "9FLFuszJNLB5"
      },
      "outputs": [],
      "source": [
        "\n",
        "from sklearn.model_selection import train_test_split\n",
        "from sklearn.preprocessing import StandardScaler\n",
        "from sklearn.decomposition import PCA\n",
        "from sklearn.pipeline import Pipeline\n",
        "from sklearn.tree import DecisionTreeRegressor\n",
        "from sklearn.ensemble import RandomForestRegressor\n",
        "from sklearn.linear_model import LinearRegression\n",
        "from xgboost import XGBRegressor\n",
        "from sklearn.neighbors import KNeighborsRegressor\n",
        "from sklearn.model_selection import cross_val_score\n",
        "from sklearn.metrics import mean_squared_error as mse,r2_score\n",
        "from sklearn import metrics"
      ]
    },
    {
      "cell_type": "markdown",
      "metadata": {
        "id": "kgGSAoqnFx22"
      },
      "source": [
        "## **MODEL BUILDING**"
      ]
    },
    {
      "cell_type": "code",
      "execution_count": 11,
      "metadata": {
        "id": "3S_3APm4_oKO"
      },
      "outputs": [],
      "source": [
        "X = df.drop(['price'],axis = 1)\n",
        "y = df['price']"
      ]
    },
    {
      "cell_type": "code",
      "execution_count": 12,
      "metadata": {
        "id": "i7xYaKRp_oN0"
      },
      "outputs": [],
      "source": [
        "from sklearn.model_selection import train_test_split\n",
        "x_train, x_test, y_train, y_test = train_test_split(X,y, train_size = 0.75, random_state = 0)"
      ]
    },
    {
      "cell_type": "markdown",
      "metadata": {
        "id": "-UbIVRHvF-mo"
      },
      "source": [
        "**Feature Transformation on Train data**"
      ]
    },
    {
      "cell_type": "code",
      "execution_count": 13,
      "metadata": {
        "colab": {
          "base_uri": "https://localhost:8080/",
          "height": 206
        },
        "id": "OVuAEsA4Bbo3",
        "outputId": "19af8b46-6444-496c-f0d8-b31e019cc1d7"
      },
      "outputs": [
        {
          "data": {
            "text/html": [
              "<div>\n",
              "<style scoped>\n",
              "    .dataframe tbody tr th:only-of-type {\n",
              "        vertical-align: middle;\n",
              "    }\n",
              "\n",
              "    .dataframe tbody tr th {\n",
              "        vertical-align: top;\n",
              "    }\n",
              "\n",
              "    .dataframe thead th {\n",
              "        text-align: right;\n",
              "    }\n",
              "</style>\n",
              "<table border=\"1\" class=\"dataframe\">\n",
              "  <thead>\n",
              "    <tr style=\"text-align: right;\">\n",
              "      <th></th>\n",
              "      <th>carat</th>\n",
              "      <th>cut</th>\n",
              "      <th>color</th>\n",
              "      <th>clarity</th>\n",
              "      <th>x</th>\n",
              "      <th>y</th>\n",
              "      <th>z</th>\n",
              "      <th>depth</th>\n",
              "      <th>table</th>\n",
              "    </tr>\n",
              "  </thead>\n",
              "  <tbody>\n",
              "    <tr>\n",
              "      <th>40272</th>\n",
              "      <td>-1.196848</td>\n",
              "      <td>-0.538618</td>\n",
              "      <td>-0.348023</td>\n",
              "      <td>0.573992</td>\n",
              "      <td>-1.600088</td>\n",
              "      <td>-1.595362</td>\n",
              "      <td>-1.590144</td>\n",
              "      <td>0.102661</td>\n",
              "      <td>-0.653988</td>\n",
              "    </tr>\n",
              "    <tr>\n",
              "      <th>44865</th>\n",
              "      <td>-0.626274</td>\n",
              "      <td>1.406218</td>\n",
              "      <td>-1.523658</td>\n",
              "      <td>-0.032523</td>\n",
              "      <td>-0.526609</td>\n",
              "      <td>-0.513970</td>\n",
              "      <td>-0.561769</td>\n",
              "      <td>-0.389715</td>\n",
              "      <td>-0.653988</td>\n",
              "    </tr>\n",
              "    <tr>\n",
              "      <th>24022</th>\n",
              "      <td>2.754906</td>\n",
              "      <td>1.406218</td>\n",
              "      <td>2.003247</td>\n",
              "      <td>-1.245554</td>\n",
              "      <td>2.183925</td>\n",
              "      <td>2.252591</td>\n",
              "      <td>2.233673</td>\n",
              "      <td>0.173000</td>\n",
              "      <td>2.037830</td>\n",
              "    </tr>\n",
              "    <tr>\n",
              "      <th>33311</th>\n",
              "      <td>-0.943260</td>\n",
              "      <td>-0.538618</td>\n",
              "      <td>-1.523658</td>\n",
              "      <td>-0.639039</td>\n",
              "      <td>-1.045457</td>\n",
              "      <td>-1.090712</td>\n",
              "      <td>-1.025262</td>\n",
              "      <td>0.384019</td>\n",
              "      <td>-1.102625</td>\n",
              "    </tr>\n",
              "    <tr>\n",
              "      <th>19209</th>\n",
              "      <td>0.874125</td>\n",
              "      <td>-0.538618</td>\n",
              "      <td>0.827612</td>\n",
              "      <td>1.180507</td>\n",
              "      <td>1.047827</td>\n",
              "      <td>1.081083</td>\n",
              "      <td>0.930099</td>\n",
              "      <td>-0.952430</td>\n",
              "      <td>-0.205352</td>\n",
              "    </tr>\n",
              "  </tbody>\n",
              "</table>\n",
              "</div>"
            ],
            "text/plain": [
              "          carat       cut     color   clarity         x         y         z  \\\n",
              "40272 -1.196848 -0.538618 -0.348023  0.573992 -1.600088 -1.595362 -1.590144   \n",
              "44865 -0.626274  1.406218 -1.523658 -0.032523 -0.526609 -0.513970 -0.561769   \n",
              "24022  2.754906  1.406218  2.003247 -1.245554  2.183925  2.252591  2.233673   \n",
              "33311 -0.943260 -0.538618 -1.523658 -0.639039 -1.045457 -1.090712 -1.025262   \n",
              "19209  0.874125 -0.538618  0.827612  1.180507  1.047827  1.081083  0.930099   \n",
              "\n",
              "          depth     table  \n",
              "40272  0.102661 -0.653988  \n",
              "44865 -0.389715 -0.653988  \n",
              "24022  0.173000  2.037830  \n",
              "33311  0.384019 -1.102625  \n",
              "19209 -0.952430 -0.205352  "
            ]
          },
          "execution_count": 13,
          "metadata": {},
          "output_type": "execute_result"
        }
      ],
      "source": [
        "# Standard Scaler for Numerical Features\n",
        "scaler = StandardScaler()\n",
        "x_train = pd.DataFrame(scaler.fit_transform(x_train),columns = x_train.columns, index = x_train.index)\n",
        "x_train.head()"
      ]
    },
    {
      "cell_type": "markdown",
      "metadata": {
        "id": "2nWkvVWHGQK_"
      },
      "source": [
        "**Feature Transformation on Test data**"
      ]
    },
    {
      "cell_type": "code",
      "execution_count": 14,
      "metadata": {
        "colab": {
          "base_uri": "https://localhost:8080/",
          "height": 206
        },
        "id": "8BX-4Qw2Cs-W",
        "outputId": "7f672e48-7705-4a95-85ed-3a190211631e"
      },
      "outputs": [
        {
          "data": {
            "text/html": [
              "<div>\n",
              "<style scoped>\n",
              "    .dataframe tbody tr th:only-of-type {\n",
              "        vertical-align: middle;\n",
              "    }\n",
              "\n",
              "    .dataframe tbody tr th {\n",
              "        vertical-align: top;\n",
              "    }\n",
              "\n",
              "    .dataframe thead th {\n",
              "        text-align: right;\n",
              "    }\n",
              "</style>\n",
              "<table border=\"1\" class=\"dataframe\">\n",
              "  <thead>\n",
              "    <tr style=\"text-align: right;\">\n",
              "      <th></th>\n",
              "      <th>carat</th>\n",
              "      <th>cut</th>\n",
              "      <th>color</th>\n",
              "      <th>clarity</th>\n",
              "      <th>x</th>\n",
              "      <th>y</th>\n",
              "      <th>z</th>\n",
              "      <th>depth</th>\n",
              "      <th>table</th>\n",
              "    </tr>\n",
              "  </thead>\n",
              "  <tbody>\n",
              "    <tr>\n",
              "      <th>11576</th>\n",
              "      <td>0.979787</td>\n",
              "      <td>0.433800</td>\n",
              "      <td>2.003247</td>\n",
              "      <td>-1.245554</td>\n",
              "      <td>1.092555</td>\n",
              "      <td>1.054048</td>\n",
              "      <td>1.161845</td>\n",
              "      <td>0.665376</td>\n",
              "      <td>0.243285</td>\n",
              "    </tr>\n",
              "    <tr>\n",
              "      <th>45207</th>\n",
              "      <td>-0.605142</td>\n",
              "      <td>-0.538618</td>\n",
              "      <td>0.239794</td>\n",
              "      <td>0.573992</td>\n",
              "      <td>-0.526609</td>\n",
              "      <td>-0.504958</td>\n",
              "      <td>-0.518317</td>\n",
              "      <td>-0.038018</td>\n",
              "      <td>-1.102625</td>\n",
              "    </tr>\n",
              "    <tr>\n",
              "      <th>52940</th>\n",
              "      <td>-0.203627</td>\n",
              "      <td>0.433800</td>\n",
              "      <td>-0.935841</td>\n",
              "      <td>-0.639039</td>\n",
              "      <td>-0.043544</td>\n",
              "      <td>-0.081413</td>\n",
              "      <td>-0.069308</td>\n",
              "      <td>-0.038018</td>\n",
              "      <td>2.037830</td>\n",
              "    </tr>\n",
              "    <tr>\n",
              "      <th>212</th>\n",
              "      <td>-0.182494</td>\n",
              "      <td>-0.538618</td>\n",
              "      <td>-0.348023</td>\n",
              "      <td>-0.032523</td>\n",
              "      <td>-0.043544</td>\n",
              "      <td>-0.009321</td>\n",
              "      <td>0.003113</td>\n",
              "      <td>0.243340</td>\n",
              "      <td>-1.551261</td>\n",
              "    </tr>\n",
              "    <tr>\n",
              "      <th>983</th>\n",
              "      <td>-0.119097</td>\n",
              "      <td>1.406218</td>\n",
              "      <td>0.239794</td>\n",
              "      <td>0.573992</td>\n",
              "      <td>0.108533</td>\n",
              "      <td>0.143877</td>\n",
              "      <td>-0.040340</td>\n",
              "      <td>-1.374466</td>\n",
              "      <td>0.243285</td>\n",
              "    </tr>\n",
              "  </tbody>\n",
              "</table>\n",
              "</div>"
            ],
            "text/plain": [
              "          carat       cut     color   clarity         x         y         z  \\\n",
              "11576  0.979787  0.433800  2.003247 -1.245554  1.092555  1.054048  1.161845   \n",
              "45207 -0.605142 -0.538618  0.239794  0.573992 -0.526609 -0.504958 -0.518317   \n",
              "52940 -0.203627  0.433800 -0.935841 -0.639039 -0.043544 -0.081413 -0.069308   \n",
              "212   -0.182494 -0.538618 -0.348023 -0.032523 -0.043544 -0.009321  0.003113   \n",
              "983   -0.119097  1.406218  0.239794  0.573992  0.108533  0.143877 -0.040340   \n",
              "\n",
              "          depth     table  \n",
              "11576  0.665376  0.243285  \n",
              "45207 -0.038018 -1.102625  \n",
              "52940 -0.038018  2.037830  \n",
              "212    0.243340 -1.551261  \n",
              "983   -1.374466  0.243285  "
            ]
          },
          "execution_count": 14,
          "metadata": {},
          "output_type": "execute_result"
        }
      ],
      "source": [
        "# Standard Scaler for Numerical Features\n",
        "x_test= pd.DataFrame(scaler.transform(x_test),columns = x_test.columns,index = x_test.index)\n",
        "x_test.head()"
      ]
    },
    {
      "cell_type": "code",
      "execution_count": 15,
      "metadata": {
        "id": "E1djsa4NOaTh"
      },
      "outputs": [],
      "source": [
        "# Building pipelins of standard scaler and model for various regressors.\n",
        "lr = LinearRegression()\n",
        "pipeline_lr=Pipeline([(\"scalar\",StandardScaler()),\n",
        "                     (\"lr\",LinearRegression())])\n",
        "\n",
        "dt = DecisionTreeRegressor()\n",
        "pipeline_dt=Pipeline([(\"scalar\",StandardScaler()),\n",
        "                     (\"dt\",DecisionTreeRegressor())])\n",
        "\n",
        "rf = RandomForestRegressor()\n",
        "pipeline_rf=Pipeline([(\"scalar\",StandardScaler()),\n",
        "                     (\"rf\",RandomForestRegressor())])\n",
        "\n",
        "knn = KNeighborsRegressor()\n",
        "pipeline_kn=Pipeline([(\"scalar\",StandardScaler()),\n",
        "                     (\"knn\",KNeighborsRegressor())])\n",
        "\n",
        "xgb = XGBRegressor()\n",
        "pipeline_xgb=Pipeline([(\"scalar\",StandardScaler()),\n",
        "                     (\"xgb\",XGBRegressor())])\n",
        "\n",
        "# List of all the pipelines\n",
        "pipelines = [pipeline_lr, pipeline_dt, pipeline_rf, pipeline_kn, pipeline_xgb]"
      ]
    },
    {
      "cell_type": "code",
      "execution_count": 16,
      "metadata": {
        "colab": {
          "base_uri": "https://localhost:8080/"
        },
        "id": "Ltztw4EWOaWw",
        "outputId": "b3455f42-a6c2-4bcf-ffbf-be7ab96b09c8"
      },
      "outputs": [
        {
          "name": "stdout",
          "output_type": "stream",
          "text": [
            "LinearRegression: -1216.324841 \n",
            "DecisionTree: -739.146037 \n",
            "RandomForest: -539.965047 \n",
            "KNNeighbors: -727.112291 \n",
            "XGBRegressor: -541.927121 \n"
          ]
        }
      ],
      "source": [
        "# Dictionary of pipelines and model types for ease of reference\n",
        "pipe_dict = {0: \"LinearRegression\", 1: \"DecisionTree\", 2: \"RandomForest\",3: \"KNNeighbors\", 4: \"XGBRegressor\"}\n",
        "\n",
        "# Fit the pipelines\n",
        "for pipe in pipelines:\n",
        "    pipe.fit(x_train, y_train)\n",
        "    \n",
        "cv_results_rms = []\n",
        "for i, model in enumerate(pipelines):\n",
        "    cv_score = cross_val_score(model, x_train,y_train,scoring=\"neg_root_mean_squared_error\", cv=10)\n",
        "    cv_results_rms.append(cv_score)\n",
        "    print(\"%s: %f \" % (pipe_dict[i], cv_score.mean()))\n",
        "    "
      ]
    },
    {
      "attachments": {},
      "cell_type": "markdown",
      "metadata": {
        "id": "K4CbrWg3RdXp"
      },
      "source": [
        "From the above scores, XGB Regressor appears to be the model with the best score on the negative mean squared error. Let’s test this model on the test set and evaluate with different parameters:\n",
        "\n"
      ]
    },
    {
      "cell_type": "code",
      "execution_count": 17,
      "metadata": {
        "colab": {
          "base_uri": "https://localhost:8080/"
        },
        "id": "twXuqwNsOaaO",
        "outputId": "06422e6c-8753-43e5-aa96-938dc293e346"
      },
      "outputs": [
        {
          "data": {
            "text/html": [
              "<div>\n",
              "<style scoped>\n",
              "    .dataframe tbody tr th:only-of-type {\n",
              "        vertical-align: middle;\n",
              "    }\n",
              "\n",
              "    .dataframe tbody tr th {\n",
              "        vertical-align: top;\n",
              "    }\n",
              "\n",
              "    .dataframe thead th {\n",
              "        text-align: right;\n",
              "    }\n",
              "</style>\n",
              "<table border=\"1\" class=\"dataframe\">\n",
              "  <thead>\n",
              "    <tr style=\"text-align: right;\">\n",
              "      <th></th>\n",
              "      <th>Model</th>\n",
              "      <th>MSE</th>\n",
              "      <th>RMSE</th>\n",
              "      <th>R2 Score</th>\n",
              "    </tr>\n",
              "  </thead>\n",
              "  <tbody>\n",
              "    <tr>\n",
              "      <th>0</th>\n",
              "      <td>XGB Regressor</td>\n",
              "      <td>310962.49</td>\n",
              "      <td>557.64</td>\n",
              "      <td>98.027</td>\n",
              "    </tr>\n",
              "    <tr>\n",
              "      <th>0</th>\n",
              "      <td>Random Forest</td>\n",
              "      <td>306284.44</td>\n",
              "      <td>553.43</td>\n",
              "      <td>98.047</td>\n",
              "    </tr>\n",
              "    <tr>\n",
              "      <th>0</th>\n",
              "      <td>Decision Tree</td>\n",
              "      <td>562748.68</td>\n",
              "      <td>750.17</td>\n",
              "      <td>96.447</td>\n",
              "    </tr>\n",
              "    <tr>\n",
              "      <th>0</th>\n",
              "      <td>Linear Regression</td>\n",
              "      <td>1437335.95</td>\n",
              "      <td>1198.89</td>\n",
              "      <td>90.021</td>\n",
              "    </tr>\n",
              "    <tr>\n",
              "      <th>0</th>\n",
              "      <td>KNN Regressor</td>\n",
              "      <td>1437335.95</td>\n",
              "      <td>1198.89</td>\n",
              "      <td>90.021</td>\n",
              "    </tr>\n",
              "  </tbody>\n",
              "</table>\n",
              "</div>"
            ],
            "text/plain": [
              "               Model         MSE     RMSE  R2 Score\n",
              "0      XGB Regressor   310962.49   557.64    98.027\n",
              "0      Random Forest   306284.44   553.43    98.047\n",
              "0      Decision Tree   562748.68   750.17    96.447\n",
              "0  Linear Regression  1437335.95  1198.89    90.021\n",
              "0      KNN Regressor  1437335.95  1198.89    90.021"
            ]
          },
          "execution_count": 17,
          "metadata": {},
          "output_type": "execute_result"
        }
      ],
      "source": [
        "from sklearn.metrics import mean_squared_error as mse, r2_score\n",
        "\n",
        "pred = pipeline_xgb.predict(x_test)\n",
        "XGB=pd.DataFrame({\"Model\":[\"XGB Regressor\"], \"MSE\":[(mse(pred,y_test)).round(2)], \n",
        "                      \"RMSE\":[(np.sqrt(mse(pred,y_test)).round(2))], \"R2 Score\":[((r2_score(pred, y_test))*100).round(3)]})\n",
        "\n",
        "pred = pipeline_lr.predict(x_test)\n",
        "LR=pd.DataFrame({\"Model\":[\"Linear Regression\"], \"MSE\":[(mse(pred,y_test)).round(2)], \n",
        "                      \"RMSE\":[(np.sqrt(mse(pred,y_test)).round(2))], \"R2 Score\":[((r2_score(pred, y_test))*100).round(3)]})\n",
        "\n",
        "pred = pipeline_dt.predict(x_test)\n",
        "DT=pd.DataFrame({\"Model\":[\"Decision Tree\"], \"MSE\":[(mse(pred,y_test)).round(2)], \n",
        "                      \"RMSE\":[(np.sqrt(mse(pred,y_test)).round(2))], \"R2 Score\":[((r2_score(pred, y_test))*100).round(3)]})\n",
        "\n",
        "pred = pipeline_rf.predict(x_test)\n",
        "RF=pd.DataFrame({\"Model\":[\"Random Forest\"], \"MSE\":[(mse(pred,y_test)).round(2)], \n",
        "                      \"RMSE\":[(np.sqrt(mse(pred,y_test)).round(2))], \"R2 Score\":[((r2_score(pred, y_test))*100).round(3)]})\n",
        "\n",
        "pred = pipeline_lr.predict(x_test)\n",
        "KNN=pd.DataFrame({\"Model\":[\"KNN Regressor\"], \"MSE\":[(mse(pred,y_test)).round(2)], \n",
        "                      \"RMSE\":[(np.sqrt(mse(pred,y_test)).round(2))], \"R2 Score\":[((r2_score(pred, y_test))*100).round(3)]})\n",
        "results = pd.concat([XGB,RF,DT,LR,KNN])\n",
        "results\n"
      ]
    },
    {
      "attachments": {},
      "cell_type": "markdown",
      "metadata": {},
      "source": [
        "## **Model Serialization**"
      ]
    },
    {
      "cell_type": "code",
      "execution_count": 18,
      "metadata": {
        "colab": {
          "base_uri": "https://localhost:8080/",
          "height": 242
        },
        "id": "3mEoFjlKOadl",
        "outputId": "be140a8e-6c23-49cf-ad58-eafba556c795"
      },
      "outputs": [],
      "source": [
        "from pickle import dump\n",
        "dump(scaler, open('models/standard_scaler.pkl', 'wb'))\n",
        "dump(lr, open('models/lr_model.pkl', 'wb'))\n",
        "dump(dt, open('models/dt_model.pkl', 'wb'))\n",
        "dump(rf, open('models/rf_model.pkl', 'wb'))\n",
        "dump(knn, open('models/knn_model.pkl', 'wb'))\n",
        "dump(xgb, open('models/xgb_model.pkl', 'wb'))"
      ]
    },
    {
      "cell_type": "code",
      "execution_count": 19,
      "metadata": {},
      "outputs": [
        {
          "data": {
            "text/plain": [
              "Index(['carat', 'cut', 'color', 'clarity', 'x', 'y', 'z', 'depth', 'table',\n",
              "       'price'],\n",
              "      dtype='object')"
            ]
          },
          "execution_count": 19,
          "metadata": {},
          "output_type": "execute_result"
        }
      ],
      "source": [
        "df.columns"
      ]
    },
    {
      "cell_type": "code",
      "execution_count": 20,
      "metadata": {},
      "outputs": [],
      "source": [
        "# Exporting the model\n",
        "import pickle\n",
        "pickle.dump(xgb, open('diamond.pkl', 'wb'))"
      ]
    },
    {
      "cell_type": "code",
      "execution_count": null,
      "metadata": {},
      "outputs": [],
      "source": []
    },
    {
      "cell_type": "code",
      "execution_count": null,
      "metadata": {},
      "outputs": [],
      "source": []
    }
  ],
  "metadata": {
    "colab": {
      "provenance": []
    },
    "kernelspec": {
      "display_name": "Python 3",
      "name": "python3"
    },
    "language_info": {
      "codemirror_mode": {
        "name": "ipython",
        "version": 3
      },
      "file_extension": ".py",
      "mimetype": "text/x-python",
      "name": "python",
      "nbconvert_exporter": "python",
      "pygments_lexer": "ipython3",
      "version": "3.10.0"
    }
  },
  "nbformat": 4,
  "nbformat_minor": 0
}
