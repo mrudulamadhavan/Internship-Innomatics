{
 "cells": [
  {
   "attachments": {},
   "cell_type": "markdown",
   "metadata": {},
   "source": [
    "# **Experiment Tracking using MLFlow**"
   ]
  },
  {
   "attachments": {},
   "cell_type": "markdown",
   "metadata": {},
   "source": [
    "## GENDER PREDICTION\n",
    "\n",
    "The gender dataset consists of 4981 rows and 7 features and one class label.\n",
    "\n",
    "* long_hair : it is 1 if he/she has long hair or 0 if he/she haven’t\n",
    "* forehead_width_cm : forehead width in cm\n",
    "* forehead_height_cm : forehead height in cm\n",
    "* nose_long : it is 1 if he/she has a long nose or 0 if he/she haven’t\n",
    "* nose_wide : it is 1 if he/she has a wide nose or 0 if he/she haven’t\n",
    "* lips_thin : it is 1 if he/she has thin lips or 0 if he/she haven’t\n",
    "* distance_nose_to_lip_long: it is 1 if there is a long distance between lips and nose or 0 if there isn’t this long distance between them\n",
    "* Gender(Target column): We will use the other 7 features of the dataset in order to make inferences and predictions regarding the gender of any given individual."
   ]
  },
  {
   "cell_type": "code",
   "execution_count": 1,
   "metadata": {},
   "outputs": [],
   "source": [
    "import pandas as pd\n",
    "import numpy as np\n",
    "import seaborn as sns\n",
    "import matplotlib.pyplot as plt\n",
    "from sklearn.metrics import confusion_matrix,plot_confusion_matrix"
   ]
  },
  {
   "cell_type": "code",
   "execution_count": 2,
   "metadata": {},
   "outputs": [
    {
     "data": {
      "text/html": [
       "<div>\n",
       "<style scoped>\n",
       "    .dataframe tbody tr th:only-of-type {\n",
       "        vertical-align: middle;\n",
       "    }\n",
       "\n",
       "    .dataframe tbody tr th {\n",
       "        vertical-align: top;\n",
       "    }\n",
       "\n",
       "    .dataframe thead th {\n",
       "        text-align: right;\n",
       "    }\n",
       "</style>\n",
       "<table border=\"1\" class=\"dataframe\">\n",
       "  <thead>\n",
       "    <tr style=\"text-align: right;\">\n",
       "      <th></th>\n",
       "      <th>long_hair</th>\n",
       "      <th>forehead_width_cm</th>\n",
       "      <th>forehead_height_cm</th>\n",
       "      <th>nose_wide</th>\n",
       "      <th>nose_long</th>\n",
       "      <th>lips_thin</th>\n",
       "      <th>distance_nose_to_lip_long</th>\n",
       "      <th>gender</th>\n",
       "    </tr>\n",
       "  </thead>\n",
       "  <tbody>\n",
       "    <tr>\n",
       "      <th>0</th>\n",
       "      <td>1</td>\n",
       "      <td>11.8</td>\n",
       "      <td>6.1</td>\n",
       "      <td>1</td>\n",
       "      <td>0</td>\n",
       "      <td>1</td>\n",
       "      <td>1</td>\n",
       "      <td>Male</td>\n",
       "    </tr>\n",
       "    <tr>\n",
       "      <th>1</th>\n",
       "      <td>0</td>\n",
       "      <td>14.0</td>\n",
       "      <td>5.4</td>\n",
       "      <td>0</td>\n",
       "      <td>0</td>\n",
       "      <td>1</td>\n",
       "      <td>0</td>\n",
       "      <td>Female</td>\n",
       "    </tr>\n",
       "    <tr>\n",
       "      <th>2</th>\n",
       "      <td>0</td>\n",
       "      <td>11.8</td>\n",
       "      <td>6.3</td>\n",
       "      <td>1</td>\n",
       "      <td>1</td>\n",
       "      <td>1</td>\n",
       "      <td>1</td>\n",
       "      <td>Male</td>\n",
       "    </tr>\n",
       "    <tr>\n",
       "      <th>3</th>\n",
       "      <td>0</td>\n",
       "      <td>14.4</td>\n",
       "      <td>6.1</td>\n",
       "      <td>0</td>\n",
       "      <td>1</td>\n",
       "      <td>1</td>\n",
       "      <td>1</td>\n",
       "      <td>Male</td>\n",
       "    </tr>\n",
       "    <tr>\n",
       "      <th>4</th>\n",
       "      <td>1</td>\n",
       "      <td>13.5</td>\n",
       "      <td>5.9</td>\n",
       "      <td>0</td>\n",
       "      <td>0</td>\n",
       "      <td>0</td>\n",
       "      <td>0</td>\n",
       "      <td>Female</td>\n",
       "    </tr>\n",
       "  </tbody>\n",
       "</table>\n",
       "</div>"
      ],
      "text/plain": [
       "   long_hair  forehead_width_cm  forehead_height_cm  nose_wide  nose_long  \\\n",
       "0          1               11.8                 6.1          1          0   \n",
       "1          0               14.0                 5.4          0          0   \n",
       "2          0               11.8                 6.3          1          1   \n",
       "3          0               14.4                 6.1          0          1   \n",
       "4          1               13.5                 5.9          0          0   \n",
       "\n",
       "   lips_thin  distance_nose_to_lip_long  gender  \n",
       "0          1                          1    Male  \n",
       "1          1                          0  Female  \n",
       "2          1                          1    Male  \n",
       "3          1                          1    Male  \n",
       "4          0                          0  Female  "
      ]
     },
     "execution_count": 2,
     "metadata": {},
     "output_type": "execute_result"
    }
   ],
   "source": [
    "df=pd.read_csv(r\"data//gender_classification_v7.csv\")\n",
    "\n",
    "df.head()"
   ]
  },
  {
   "cell_type": "code",
   "execution_count": 3,
   "metadata": {},
   "outputs": [
    {
     "name": "stdout",
     "output_type": "stream",
     "text": [
      "<class 'pandas.core.frame.DataFrame'>\n",
      "RangeIndex: 5001 entries, 0 to 5000\n",
      "Data columns (total 8 columns):\n",
      " #   Column                     Non-Null Count  Dtype  \n",
      "---  ------                     --------------  -----  \n",
      " 0   long_hair                  5001 non-null   int64  \n",
      " 1   forehead_width_cm          5001 non-null   float64\n",
      " 2   forehead_height_cm         5001 non-null   float64\n",
      " 3   nose_wide                  5001 non-null   int64  \n",
      " 4   nose_long                  5001 non-null   int64  \n",
      " 5   lips_thin                  5001 non-null   int64  \n",
      " 6   distance_nose_to_lip_long  5001 non-null   int64  \n",
      " 7   gender                     5001 non-null   object \n",
      "dtypes: float64(2), int64(5), object(1)\n",
      "memory usage: 312.7+ KB\n"
     ]
    }
   ],
   "source": [
    "df.info()"
   ]
  },
  {
   "cell_type": "code",
   "execution_count": 4,
   "metadata": {},
   "outputs": [
    {
     "data": {
      "text/plain": [
       "Female    2501\n",
       "Male      2500\n",
       "Name: gender, dtype: int64"
      ]
     },
     "execution_count": 4,
     "metadata": {},
     "output_type": "execute_result"
    }
   ],
   "source": [
    "df['gender'].value_counts()"
   ]
  },
  {
   "cell_type": "code",
   "execution_count": 5,
   "metadata": {},
   "outputs": [],
   "source": [
    "sns.pairplot(df,hue = 'gender')"
   ]
  },
  {
   "cell_type": "code",
   "execution_count": null,
   "metadata": {},
   "outputs": [],
   "source": [
    "#preprocessing data\n",
    "x = df.drop('gender', axis=1)\n",
    "y = df['gender']"
   ]
  },
  {
   "cell_type": "code",
   "execution_count": null,
   "metadata": {},
   "outputs": [],
   "source": [
    "#splitting the dataset\n",
    "from sklearn.model_selection import train_test_split\n",
    "# Split dataset into training set and test set\n",
    "x_train, x_test, y_train, y_test = train_test_split(x, y, test_size=0.2,random_state=100)"
   ]
  },
  {
   "cell_type": "code",
   "execution_count": null,
   "metadata": {},
   "outputs": [
    {
     "data": {
      "text/html": [
       "<div>\n",
       "<style scoped>\n",
       "    .dataframe tbody tr th:only-of-type {\n",
       "        vertical-align: middle;\n",
       "    }\n",
       "\n",
       "    .dataframe tbody tr th {\n",
       "        vertical-align: top;\n",
       "    }\n",
       "\n",
       "    .dataframe thead th {\n",
       "        text-align: right;\n",
       "    }\n",
       "</style>\n",
       "<table border=\"1\" class=\"dataframe\">\n",
       "  <thead>\n",
       "    <tr style=\"text-align: right;\">\n",
       "      <th></th>\n",
       "      <th>long_hair</th>\n",
       "      <th>forehead_width_cm</th>\n",
       "      <th>forehead_height_cm</th>\n",
       "      <th>nose_wide</th>\n",
       "      <th>nose_long</th>\n",
       "      <th>lips_thin</th>\n",
       "      <th>distance_nose_to_lip_long</th>\n",
       "    </tr>\n",
       "  </thead>\n",
       "  <tbody>\n",
       "    <tr>\n",
       "      <th>235</th>\n",
       "      <td>0.389541</td>\n",
       "      <td>1.743269</td>\n",
       "      <td>-1.005723</td>\n",
       "      <td>1.006521</td>\n",
       "      <td>0.982159</td>\n",
       "      <td>1.013086</td>\n",
       "      <td>0.9995</td>\n",
       "    </tr>\n",
       "    <tr>\n",
       "      <th>2697</th>\n",
       "      <td>0.389541</td>\n",
       "      <td>-1.249662</td>\n",
       "      <td>1.018605</td>\n",
       "      <td>-0.993521</td>\n",
       "      <td>-1.018165</td>\n",
       "      <td>-0.987083</td>\n",
       "      <td>-1.0005</td>\n",
       "    </tr>\n",
       "    <tr>\n",
       "      <th>1219</th>\n",
       "      <td>0.389541</td>\n",
       "      <td>0.020066</td>\n",
       "      <td>-0.453634</td>\n",
       "      <td>-0.993521</td>\n",
       "      <td>0.982159</td>\n",
       "      <td>1.013086</td>\n",
       "      <td>0.9995</td>\n",
       "    </tr>\n",
       "    <tr>\n",
       "      <th>135</th>\n",
       "      <td>0.389541</td>\n",
       "      <td>-1.158967</td>\n",
       "      <td>-1.189753</td>\n",
       "      <td>-0.993521</td>\n",
       "      <td>-1.018165</td>\n",
       "      <td>-0.987083</td>\n",
       "      <td>-1.0005</td>\n",
       "    </tr>\n",
       "    <tr>\n",
       "      <th>3613</th>\n",
       "      <td>0.389541</td>\n",
       "      <td>-0.433408</td>\n",
       "      <td>-0.085574</td>\n",
       "      <td>1.006521</td>\n",
       "      <td>0.982159</td>\n",
       "      <td>1.013086</td>\n",
       "      <td>0.9995</td>\n",
       "    </tr>\n",
       "  </tbody>\n",
       "</table>\n",
       "</div>"
      ],
      "text/plain": [
       "      long_hair  forehead_width_cm  forehead_height_cm  nose_wide  nose_long  \\\n",
       "235    0.389541           1.743269           -1.005723   1.006521   0.982159   \n",
       "2697   0.389541          -1.249662            1.018605  -0.993521  -1.018165   \n",
       "1219   0.389541           0.020066           -0.453634  -0.993521   0.982159   \n",
       "135    0.389541          -1.158967           -1.189753  -0.993521  -1.018165   \n",
       "3613   0.389541          -0.433408           -0.085574   1.006521   0.982159   \n",
       "\n",
       "      lips_thin  distance_nose_to_lip_long  \n",
       "235    1.013086                     0.9995  \n",
       "2697  -0.987083                    -1.0005  \n",
       "1219   1.013086                     0.9995  \n",
       "135   -0.987083                    -1.0005  \n",
       "3613   1.013086                     0.9995  "
      ]
     },
     "execution_count": 8,
     "metadata": {},
     "output_type": "execute_result"
    }
   ],
   "source": [
    "# scaling the numerical features\n",
    "from sklearn.preprocessing import StandardScaler\n",
    "\n",
    "scaler = StandardScaler()\n",
    "\n",
    "# column names are (annoyingly) lost after Scaling\n",
    "# (i.e. the dataframe is converted to a numpy ndarray)\n",
    "\n",
    "X_train = pd.DataFrame(scaler.fit_transform(x_train), \n",
    "                                    columns = x_train.columns, \n",
    "                                    index = x_train.index)\n",
    "\n",
    "X_train.head()"
   ]
  },
  {
   "cell_type": "code",
   "execution_count": null,
   "metadata": {},
   "outputs": [
    {
     "data": {
      "text/html": [
       "<div>\n",
       "<style scoped>\n",
       "    .dataframe tbody tr th:only-of-type {\n",
       "        vertical-align: middle;\n",
       "    }\n",
       "\n",
       "    .dataframe tbody tr th {\n",
       "        vertical-align: top;\n",
       "    }\n",
       "\n",
       "    .dataframe thead th {\n",
       "        text-align: right;\n",
       "    }\n",
       "</style>\n",
       "<table border=\"1\" class=\"dataframe\">\n",
       "  <thead>\n",
       "    <tr style=\"text-align: right;\">\n",
       "      <th></th>\n",
       "      <th>long_hair</th>\n",
       "      <th>forehead_width_cm</th>\n",
       "      <th>forehead_height_cm</th>\n",
       "      <th>nose_wide</th>\n",
       "      <th>nose_long</th>\n",
       "      <th>lips_thin</th>\n",
       "      <th>distance_nose_to_lip_long</th>\n",
       "    </tr>\n",
       "  </thead>\n",
       "  <tbody>\n",
       "    <tr>\n",
       "      <th>294</th>\n",
       "      <td>-2.567125</td>\n",
       "      <td>0.654930</td>\n",
       "      <td>0.282486</td>\n",
       "      <td>1.006521</td>\n",
       "      <td>0.982159</td>\n",
       "      <td>1.013086</td>\n",
       "      <td>0.9995</td>\n",
       "    </tr>\n",
       "    <tr>\n",
       "      <th>1379</th>\n",
       "      <td>0.389541</td>\n",
       "      <td>-1.158967</td>\n",
       "      <td>0.650546</td>\n",
       "      <td>-0.993521</td>\n",
       "      <td>0.982159</td>\n",
       "      <td>-0.987083</td>\n",
       "      <td>-1.0005</td>\n",
       "    </tr>\n",
       "    <tr>\n",
       "      <th>3667</th>\n",
       "      <td>0.389541</td>\n",
       "      <td>0.382846</td>\n",
       "      <td>0.834575</td>\n",
       "      <td>1.006521</td>\n",
       "      <td>-1.018165</td>\n",
       "      <td>-0.987083</td>\n",
       "      <td>-1.0005</td>\n",
       "    </tr>\n",
       "    <tr>\n",
       "      <th>504</th>\n",
       "      <td>-2.567125</td>\n",
       "      <td>1.924658</td>\n",
       "      <td>-0.453634</td>\n",
       "      <td>1.006521</td>\n",
       "      <td>0.982159</td>\n",
       "      <td>1.013086</td>\n",
       "      <td>0.9995</td>\n",
       "    </tr>\n",
       "    <tr>\n",
       "      <th>1359</th>\n",
       "      <td>-2.567125</td>\n",
       "      <td>-1.158967</td>\n",
       "      <td>0.466516</td>\n",
       "      <td>-0.993521</td>\n",
       "      <td>-1.018165</td>\n",
       "      <td>-0.987083</td>\n",
       "      <td>-1.0005</td>\n",
       "    </tr>\n",
       "  </tbody>\n",
       "</table>\n",
       "</div>"
      ],
      "text/plain": [
       "      long_hair  forehead_width_cm  forehead_height_cm  nose_wide  nose_long  \\\n",
       "294   -2.567125           0.654930            0.282486   1.006521   0.982159   \n",
       "1379   0.389541          -1.158967            0.650546  -0.993521   0.982159   \n",
       "3667   0.389541           0.382846            0.834575   1.006521  -1.018165   \n",
       "504   -2.567125           1.924658           -0.453634   1.006521   0.982159   \n",
       "1359  -2.567125          -1.158967            0.466516  -0.993521  -1.018165   \n",
       "\n",
       "      lips_thin  distance_nose_to_lip_long  \n",
       "294    1.013086                     0.9995  \n",
       "1379  -0.987083                    -1.0005  \n",
       "3667  -0.987083                    -1.0005  \n",
       "504    1.013086                     0.9995  \n",
       "1359  -0.987083                    -1.0005  "
      ]
     },
     "execution_count": 9,
     "metadata": {},
     "output_type": "execute_result"
    }
   ],
   "source": [
    "X_test= pd.DataFrame(scaler.transform(x_test), \n",
    "                                   columns = x_test.columns, \n",
    "                                   index = x_test.index)\n",
    "\n",
    "X_test.head()"
   ]
  },
  {
   "cell_type": "code",
   "execution_count": null,
   "metadata": {},
   "outputs": [],
   "source": [
    "from sklearn.neighbors import KNeighborsClassifier\n",
    "from sklearn.linear_model import LogisticRegression\n",
    "from sklearn.naive_bayes import GaussianNB\n",
    "from sklearn.tree import DecisionTreeClassifier\n",
    "from sklearn.svm import SVC\n",
    "\n",
    "from sklearn import metrics\n",
    "from pickle import dump\n",
    "\n"
   ]
  },
  {
   "cell_type": "code",
   "execution_count": null,
   "metadata": {},
   "outputs": [
    {
     "name": "stdout",
     "output_type": "stream",
     "text": [
      "Accuracy : 0.963\n"
     ]
    }
   ],
   "source": [
    "# KNN\n",
    "from sklearn.neighbors import KNeighborsClassifier\n",
    "knn_classifier = KNeighborsClassifier()\n",
    "knn_classifier.fit(X_train, y_train)\n",
    "\n",
    "y_test_pred = knn_classifier.predict(X_test)\n",
    "# calculate accuracy of class predictions\n",
    "from sklearn import metrics\n",
    "print(\"Accuracy :\",metrics.accuracy_score(y_test, y_test_pred).round(4))"
   ]
  },
  {
   "cell_type": "code",
   "execution_count": null,
   "metadata": {},
   "outputs": [
    {
     "name": "stdout",
     "output_type": "stream",
     "text": [
      "Accuracy : 0.965\n"
     ]
    }
   ],
   "source": [
    "# Logistic Regn\n",
    "from sklearn.linear_model import LogisticRegression\n",
    "lr_classifier = LogisticRegression()\n",
    "lr_classifier.fit(X_train, y_train)\n",
    "\n",
    "y_test_pred = lr_classifier.predict(X_test)\n",
    "# calculate accuracy of class predictions\n",
    "from sklearn import metrics\n",
    "print(\"Accuracy :\",metrics.accuracy_score(y_test, y_test_pred).round(4))"
   ]
  },
  {
   "cell_type": "code",
   "execution_count": null,
   "metadata": {},
   "outputs": [
    {
     "name": "stdout",
     "output_type": "stream",
     "text": [
      "Accuracy : 0.968\n"
     ]
    }
   ],
   "source": [
    "# Naive Bayes\n",
    "from sklearn.naive_bayes import GaussianNB\n",
    "nb_classifier = GaussianNB()\n",
    "nb_classifier.fit(X_train, y_train)\n",
    "\n",
    "y_test_pred = nb_classifier.predict(X_test)\n",
    "# calculate accuracy of class predictions\n",
    "from sklearn import metrics\n",
    "print(\"Accuracy :\",metrics.accuracy_score(y_test, y_test_pred).round(4))"
   ]
  },
  {
   "cell_type": "code",
   "execution_count": null,
   "metadata": {},
   "outputs": [
    {
     "name": "stdout",
     "output_type": "stream",
     "text": [
      "Accuracy : 0.961\n"
     ]
    }
   ],
   "source": [
    "# Decision Tree\n",
    "from sklearn.tree import DecisionTreeClassifier\n",
    "dt_classifier = DecisionTreeClassifier(max_depth = 3)\n",
    "dt_classifier.fit(X_train, y_train)\n",
    "\n",
    "y_test_pred = dt_classifier.predict(X_test)\n",
    "# calculate accuracy of class predictions\n",
    "from sklearn import metrics\n",
    "print(\"Accuracy :\",metrics.accuracy_score(y_test, y_test_pred).round(4))"
   ]
  },
  {
   "cell_type": "code",
   "execution_count": null,
   "metadata": {},
   "outputs": [
    {
     "name": "stdout",
     "output_type": "stream",
     "text": [
      "Accuracy : 0.969\n"
     ]
    }
   ],
   "source": [
    "# Support Vector Classifier\n",
    "from sklearn.svm import SVC\n",
    "sv_classifier = SVC()\n",
    "sv_classifier.fit(X_train, y_train)\n",
    "\n",
    "y_test_pred = sv_classifier.predict(X_test)\n",
    "# calculate accuracy of class predictions\n",
    "from sklearn import metrics\n",
    "print(\"Accuracy :\",metrics.accuracy_score(y_test, y_test_pred).round(4))"
   ]
  },
  {
   "attachments": {},
   "cell_type": "markdown",
   "metadata": {},
   "source": [
    "## **Saving the Model (Serialization)**"
   ]
  },
  {
   "cell_type": "code",
   "execution_count": null,
   "metadata": {},
   "outputs": [],
   "source": [
    "\n",
    "from pickle import dump\n",
    "\n",
    "dump(scaler, open('models/standard_scaler.pkl', 'wb'))\n",
    "dump(knn_classifier, open('models/knn_model.pkl', 'wb'))\n",
    "dump(lr_classifier, open('models/lr_model.pkl', 'wb'))\n",
    "dump(nb_classifier, open('models/nb_model.pkl', 'wb'))\n",
    "dump(dt_classifier, open('models/dt_model.pkl', 'wb'))\n",
    "dump(sv_classifier, open('models/sv_model.pkl', 'wb'))"
   ]
  },
  {
   "cell_type": "code",
   "execution_count": null,
   "metadata": {},
   "outputs": [
    {
     "name": "stderr",
     "output_type": "stream",
     "text": [
      "2023/05/10 11:41:44 INFO mlflow.tracking.fluent: Experiment with name 'Gender Prediction' does not exist. Creating a new experiment.\n"
     ]
    },
    {
     "data": {
      "text/plain": [
       "<Experiment: artifact_location='mlflow-artifacts:/385426064880880178', creation_time=1683699104176, experiment_id='385426064880880178', last_update_time=1683699104176, lifecycle_stage='active', name='Gender Prediction', tags={}>"
      ]
     },
     "execution_count": 17,
     "metadata": {},
     "output_type": "execute_result"
    }
   ],
   "source": [
    "import mlflow\n",
    "mlflow.set_tracking_uri(\"sqlite:///mlflow.db\")\n",
    "mlflow.set_tracking_uri(\"http://localhost:5000\")\n",
    "mlflow.set_experiment(\"Gender Prediction\")"
   ]
  },
  {
   "cell_type": "code",
   "execution_count": null,
   "metadata": {},
   "outputs": [],
   "source": [
    "from sklearn.neighbors import KNeighborsClassifier\n",
    "from sklearn.linear_model import LogisticRegression\n",
    "from sklearn.naive_bayes import GaussianNB\n",
    "from sklearn.tree import DecisionTreeClassifier\n",
    "from sklearn.svm import SVC\n",
    "\n",
    "from sklearn import metrics"
   ]
  },
  {
   "cell_type": "code",
   "execution_count": null,
   "metadata": {},
   "outputs": [],
   "source": [
    "from pickle import dump\n",
    "\n",
    "dump(scaler, open('models/standard_scaler.pkl', 'wb'))"
   ]
  },
  {
   "attachments": {},
   "cell_type": "markdown",
   "metadata": {},
   "source": [
    "## **EXPERIMENT TRACKING**"
   ]
  },
  {
   "cell_type": "code",
   "execution_count": null,
   "metadata": {},
   "outputs": [],
   "source": [
    "# KNN model\n",
    "with mlflow.start_run(run_name=\"KNN\"):\n",
    "    mlflow.set_tag(\"dev\", \"APM\")\n",
    "    mlflow.set_tag(\"algo\", \"KNN\")\n",
    "    # log the data for each run using log_param, log_metric, log_model\n",
    "    mlflow.log_param(\"data-path\", \"data/gender_classification_v7.csv\")\n",
    "    k = 53\n",
    "    mlflow.log_param(\"n_neighbors\", k)\n",
    "    knn_classifier = KNeighborsClassifier(n_neighbors=5)\n",
    "    knn_classifier.fit(X_train, y_train)\n",
    "    y_test_pred = knn_classifier.predict(X_test)\n",
    "    acc = metrics.accuracy_score(y_test, y_test_pred)\n",
    "    mlflow.log_metric(\"accuracy\", acc)\n",
    "    mlflow.sklearn.log_model(knn_classifier, artifact_path=\"models\")\n",
    "    mlflow.log_artifact(\"models/standard_scaler.pkl\")"
   ]
  },
  {
   "cell_type": "code",
   "execution_count": null,
   "metadata": {},
   "outputs": [],
   "source": [
    "# Logistic Regn \n",
    "with mlflow.start_run(run_name=\"LogisticRegression\"):\n",
    "    mlflow.set_tag(\"dev\", \"APM\")\n",
    "    mlflow.set_tag(\"algo\", \"Logit_Regn\")\n",
    "    # log the data for each run using log_param, log_metric, log_model\n",
    "    mlflow.log_param(\"data-path\", \"data/gender_classification_v7.csv\")\n",
    "    C = 0.1\n",
    "    mlflow.log_param(\"C\", C)\n",
    "    lr_classifier = LogisticRegression(C=C)\n",
    "    lr_classifier.fit(X_train, y_train)\n",
    "    y_test_pred = lr_classifier.predict(X_test)\n",
    "    acc = metrics.accuracy_score(y_test, y_test_pred)    \n",
    "    mlflow.log_metric(\"accuracy\", acc)\n",
    "    mlflow.sklearn.log_model(lr_classifier, artifact_path=\"models\")\n",
    "    mlflow.log_artifact(\"models/standard_scaler.pkl\")"
   ]
  },
  {
   "cell_type": "code",
   "execution_count": null,
   "metadata": {},
   "outputs": [],
   "source": [
    "# Naive Bayes\n",
    "with mlflow.start_run(run_name=\"NaiveBayes\"):\n",
    "    mlflow.set_tag(\"dev\", \"APM\")\n",
    "    mlflow.set_tag(\"algo\", \"GaussianNB\")\n",
    "    # log the data for each run using log_param, log_metric, log_model\n",
    "    mlflow.log_param(\"data-path\", \"data/gender_classification_v7.csv\")\n",
    "    nb_classifier = GaussianNB()\n",
    "    nb_classifier.fit(X_train, y_train)\n",
    "    y_test_pred = nb_classifier.predict(X_test)\n",
    "    acc = metrics.accuracy_score(y_test, y_test_pred)    \n",
    "    mlflow.log_metric(\"accuracy\", acc)\n",
    "    mlflow.sklearn.log_model(nb_classifier, artifact_path=\"models\")\n",
    "    mlflow.log_artifact(\"models/standard_scaler.pkl\")"
   ]
  },
  {
   "cell_type": "code",
   "execution_count": null,
   "metadata": {},
   "outputs": [],
   "source": [
    "# Decision Tree\n",
    "with mlflow.start_run(run_name=\"DecisionTree\"):\n",
    "    mlflow.set_tag(\"dev\", \"APM\")\n",
    "    mlflow.set_tag(\"algo\", \"DecisionTree\")\n",
    "    # log the data for each run using log_param, log_metric, log_model\n",
    "    mlflow.log_param(\"data-path\", \"data/gender_classification_v7.csv\")\n",
    "    depth = 3\n",
    "    mlflow.log_param(\"max_depth\", depth)\n",
    "    dt_classifier = DecisionTreeClassifier(max_depth = depth)\n",
    "    dt_classifier.fit(X_train, y_train)\n",
    "    y_test_pred = dt_classifier.predict(X_test)\n",
    "    acc = metrics.accuracy_score(y_test, y_test_pred)    \n",
    "    mlflow.log_metric(\"accuracy\", acc)\n",
    "    mlflow.sklearn.log_model(dt_classifier, artifact_path=\"models\")\n",
    "    mlflow.log_artifact(\"models/standard_scaler.pkl\")"
   ]
  },
  {
   "cell_type": "code",
   "execution_count": null,
   "metadata": {},
   "outputs": [],
   "source": [
    "# Support Vector Classifier\n",
    "with mlflow.start_run(run_name=\"SVM\"):\n",
    "    mlflow.set_tag(\"dev\", \"APM\")\n",
    "    mlflow.set_tag(\"algo\", \"SVM\")\n",
    "    # log the data for each run using log_param, log_metric, log_model\n",
    "    mlflow.log_param(\"data-path\", \"data/gender_classification_v7.csv\")\n",
    "    C = 0.1\n",
    "    mlflow.log_param(\"C\", C)\n",
    "    sv_classifier = SVC(C=C)\n",
    "    sv_classifier.fit(X_train, y_train)\n",
    "    y_test_pred = sv_classifier.predict(X_test)\n",
    "    acc = metrics.accuracy_score(y_test, y_test_pred)    \n",
    "    mlflow.log_metric(\"accuracy\", acc)\n",
    "    mlflow.sklearn.log_model(sv_classifier, artifact_path=\"models\")\n",
    "    mlflow.log_artifact(\"models/standard_scaler.pkl\")"
   ]
  },
  {
   "attachments": {},
   "cell_type": "markdown",
   "metadata": {},
   "source": []
  },
  {
   "cell_type": "code",
   "execution_count": null,
   "metadata": {},
   "outputs": [],
   "source": []
  }
 ],
 "metadata": {
  "kernelspec": {
   "display_name": "Python 3",
   "language": "python",
   "name": "python3"
  },
  "language_info": {
   "codemirror_mode": {
    "name": "ipython",
    "version": 3
   },
   "file_extension": ".py",
   "mimetype": "text/x-python",
   "name": "python",
   "nbconvert_exporter": "python",
   "pygments_lexer": "ipython3",
   "version": "3.10.0"
  },
  "orig_nbformat": 4
 },
 "nbformat": 4,
 "nbformat_minor": 2
}
